{
 "cells": [
  {
   "cell_type": "markdown",
   "metadata": {},
   "source": [
    "![](logo.png)"
   ]
  },
  {
   "cell_type": "markdown",
   "metadata": {},
   "source": [
    "# <font color='Red'>Advanced Programming with R</font>\n",
    "\n",
    "> ### Apply Functions\n",
    "> ### Built-in R Features\n",
    "> ### Math Functions\n",
    "> ### Regular Expressions"
   ]
  },
  {
   "cell_type": "markdown",
   "metadata": {},
   "source": [
    "# <font color='Red'>Apply Functions</font>\n",
    "\n",
    "In this lecture we will learn about 3 different apply() functions. The basic idea of an apply() is to apply a function over some iterable object.\n",
    "\n",
    "Let's start with lapply():"
   ]
  },
  {
   "cell_type": "markdown",
   "metadata": {},
   "source": [
    "## lapply()\n",
    "\n",
    "The built-in R function **lapply()** will apply a function over a list or vector:\n",
    "    \n",
    "    lapply(x, FUN, ...)\n",
    "\n",
    "Where X is your list/vector and FUN is your function. For more info you can use help(lapply)"
   ]
  },
  {
   "cell_type": "code",
   "execution_count": 2,
   "metadata": {},
   "outputs": [],
   "source": [
    "help(lapply)"
   ]
  },
  {
   "cell_type": "markdown",
   "metadata": {},
   "source": [
    "Let's see how we can use this in its most practical use case by applying a custom function to a vector. First I want to show you a quick function (we will go over more utilities like this one later) which will allow us to pick a random sample from a vector:"
   ]
  },
  {
   "cell_type": "code",
   "execution_count": 3,
   "metadata": {},
   "outputs": [
    {
     "data": {
      "text/html": [
       "7"
      ],
      "text/latex": [
       "7"
      ],
      "text/markdown": [
       "7"
      ],
      "text/plain": [
       "[1] 7"
      ]
     },
     "metadata": {},
     "output_type": "display_data"
    }
   ],
   "source": [
    "sample(1:10, 1)"
   ]
  },
  {
   "cell_type": "code",
   "execution_count": 4,
   "metadata": {},
   "outputs": [
    {
     "data": {
      "text/html": [
       "<ol>\n",
       "\t<li>2</li>\n",
       "\t<li>4</li>\n",
       "\t<li>12</li>\n",
       "\t<li>12</li>\n",
       "\t<li>6</li>\n",
       "</ol>\n"
      ],
      "text/latex": [
       "\\begin{enumerate}\n",
       "\\item 2\n",
       "\\item 4\n",
       "\\item 12\n",
       "\\item 12\n",
       "\\item 6\n",
       "\\end{enumerate}\n"
      ],
      "text/markdown": [
       "1. 2\n",
       "2. 4\n",
       "3. 12\n",
       "4. 12\n",
       "5. 6\n",
       "\n",
       "\n"
      ],
      "text/plain": [
       "[[1]]\n",
       "[1] 2\n",
       "\n",
       "[[2]]\n",
       "[1] 4\n",
       "\n",
       "[[3]]\n",
       "[1] 12\n",
       "\n",
       "[[4]]\n",
       "[1] 12\n",
       "\n",
       "[[5]]\n",
       "[1] 6\n"
      ]
     },
     "metadata": {},
     "output_type": "display_data"
    }
   ],
   "source": [
    "# Vector\n",
    "v <- c(1,2,3,4,5)\n",
    "\n",
    "# Custom Function\n",
    "addrand <- function(x){\n",
    "    \n",
    "    #Get random number\n",
    "    ran <- sample(1:10, 1)\n",
    "    \n",
    "    return(x+ran)\n",
    "    \n",
    "}\n",
    "\n",
    "lapply(v, addrand)"
   ]
  },
  {
   "cell_type": "markdown",
   "metadata": {},
   "source": [
    "## Anonymous Functions\n",
    "\n",
    "So you noticed that in the last example we had to write out an entire function to apply to the vector, but in reality that function is just doing something pretty simple, adding a random number. Do we really want to formally define an entire function for this? We don't want to, especially if we only plan to use this function a single time.\n",
    "\n",
    "To address this issue, we can create an anonymous function (because it won't have a defined name). Here's the syntax for an anonymous function in R:\n",
    "\n",
    "    function(a){code here}\n",
    "\n",
    "This is a similar idea to lambda expressions in Python. So for example we can rewrite the previous function as an anonymous function and use lapply() with it:"
   ]
  },
  {
   "cell_type": "code",
   "execution_count": 5,
   "metadata": {},
   "outputs": [
    {
     "data": {
      "text/html": [
       "<ol class=list-inline>\n",
       "\t<li>1</li>\n",
       "\t<li>2</li>\n",
       "\t<li>3</li>\n",
       "\t<li>4</li>\n",
       "\t<li>5</li>\n",
       "</ol>\n"
      ],
      "text/latex": [
       "\\begin{enumerate*}\n",
       "\\item 1\n",
       "\\item 2\n",
       "\\item 3\n",
       "\\item 4\n",
       "\\item 5\n",
       "\\end{enumerate*}\n"
      ],
      "text/markdown": [
       "1. 1\n",
       "2. 2\n",
       "3. 3\n",
       "4. 4\n",
       "5. 5\n",
       "\n",
       "\n"
      ],
      "text/plain": [
       "[1] 1 2 3 4 5"
      ]
     },
     "metadata": {},
     "output_type": "display_data"
    }
   ],
   "source": [
    "# Show vector\n",
    "v"
   ]
  },
  {
   "cell_type": "code",
   "execution_count": 6,
   "metadata": {},
   "outputs": [
    {
     "data": {
      "text/html": [
       "<pre class=language-r><code>function (a) \n",
       "{\n",
       "<span style=white-space:pre-wrap>    a + sample(1:10, 1)</span>\n",
       "}</code></pre>"
      ],
      "text/latex": [
       "\\begin{minted}{r}\n",
       "function (a) \n",
       "\\{\n",
       "    a + sample(1:10, 1)\n",
       "\\}\n",
       "\\end{minted}"
      ],
      "text/markdown": [
       "```r\n",
       "function (a) \n",
       "{\n",
       "    a + sample(1:10, 1)\n",
       "}\n",
       "```"
      ],
      "text/plain": [
       "function(a){a+sample(1:10, 1)}"
      ]
     },
     "metadata": {},
     "output_type": "display_data"
    }
   ],
   "source": [
    "# Anonymous Function Setup\n",
    "\n",
    "function(a){a+sample(1:10, 1)}"
   ]
  },
  {
   "cell_type": "code",
   "execution_count": 7,
   "metadata": {},
   "outputs": [
    {
     "data": {
      "text/html": [
       "<ol>\n",
       "\t<li>5</li>\n",
       "\t<li>11</li>\n",
       "\t<li>5</li>\n",
       "\t<li>14</li>\n",
       "\t<li>13</li>\n",
       "</ol>\n"
      ],
      "text/latex": [
       "\\begin{enumerate}\n",
       "\\item 5\n",
       "\\item 11\n",
       "\\item 5\n",
       "\\item 14\n",
       "\\item 13\n",
       "\\end{enumerate}\n"
      ],
      "text/markdown": [
       "1. 5\n",
       "2. 11\n",
       "3. 5\n",
       "4. 14\n",
       "5. 13\n",
       "\n",
       "\n"
      ],
      "text/plain": [
       "[[1]]\n",
       "[1] 5\n",
       "\n",
       "[[2]]\n",
       "[1] 11\n",
       "\n",
       "[[3]]\n",
       "[1] 5\n",
       "\n",
       "[[4]]\n",
       "[1] 14\n",
       "\n",
       "[[5]]\n",
       "[1] 13\n"
      ]
     },
     "metadata": {},
     "output_type": "display_data"
    }
   ],
   "source": [
    "# Anonymous Function with lapply()\n",
    "\n",
    "lapply(v, function(a){a+sample(1:10, 1)})"
   ]
  },
  {
   "cell_type": "code",
   "execution_count": 8,
   "metadata": {},
   "outputs": [
    {
     "data": {
      "text/html": [
       "<ol>\n",
       "\t<li>3</li>\n",
       "\t<li>4</li>\n",
       "\t<li>5</li>\n",
       "\t<li>6</li>\n",
       "\t<li>7</li>\n",
       "</ol>\n"
      ],
      "text/latex": [
       "\\begin{enumerate}\n",
       "\\item 3\n",
       "\\item 4\n",
       "\\item 5\n",
       "\\item 6\n",
       "\\item 7\n",
       "\\end{enumerate}\n"
      ],
      "text/markdown": [
       "1. 3\n",
       "2. 4\n",
       "3. 5\n",
       "4. 6\n",
       "5. 7\n",
       "\n",
       "\n"
      ],
      "text/plain": [
       "[[1]]\n",
       "[1] 3\n",
       "\n",
       "[[2]]\n",
       "[1] 4\n",
       "\n",
       "[[3]]\n",
       "[1] 5\n",
       "\n",
       "[[4]]\n",
       "[1] 6\n",
       "\n",
       "[[5]]\n",
       "[1] 7\n"
      ]
     },
     "metadata": {},
     "output_type": "display_data"
    }
   ],
   "source": [
    "# Anonymous Function with lapply()\n",
    "\n",
    "lapply(v, function(x){x+2})"
   ]
  },
  {
   "cell_type": "markdown",
   "metadata": {},
   "source": [
    "Now what if our original function had multiple arguments? lapply() actually let's us deal with that by simply adding them in like this:"
   ]
  },
  {
   "cell_type": "code",
   "execution_count": 14,
   "metadata": {},
   "outputs": [
    {
     "data": {
      "text/html": [
       "5"
      ],
      "text/latex": [
       "5"
      ],
      "text/markdown": [
       "5"
      ],
      "text/plain": [
       "[1] 5"
      ]
     },
     "metadata": {},
     "output_type": "display_data"
    }
   ],
   "source": [
    "add_choice <- function(num, choice){\n",
    "    \n",
    "    return(num+choice)\n",
    "    \n",
    "}\n",
    "\n",
    "add_choice(2,3)"
   ]
  },
  {
   "cell_type": "code",
   "execution_count": 16,
   "metadata": {},
   "outputs": [
    {
     "data": {
      "text/html": [
       "<ol>\n",
       "\t<li>11</li>\n",
       "\t<li>12</li>\n",
       "\t<li>13</li>\n",
       "\t<li>14</li>\n",
       "\t<li>15</li>\n",
       "</ol>\n"
      ],
      "text/latex": [
       "\\begin{enumerate}\n",
       "\\item 11\n",
       "\\item 12\n",
       "\\item 13\n",
       "\\item 14\n",
       "\\item 15\n",
       "\\end{enumerate}\n"
      ],
      "text/markdown": [
       "1. 11\n",
       "2. 12\n",
       "3. 13\n",
       "4. 14\n",
       "5. 15\n",
       "\n",
       "\n"
      ],
      "text/plain": [
       "[[1]]\n",
       "[1] 11\n",
       "\n",
       "[[2]]\n",
       "[1] 12\n",
       "\n",
       "[[3]]\n",
       "[1] 13\n",
       "\n",
       "[[4]]\n",
       "[1] 14\n",
       "\n",
       "[[5]]\n",
       "[1] 15\n"
      ]
     },
     "metadata": {},
     "output_type": "display_data"
    }
   ],
   "source": [
    "# Using lapply() with multiple arguments\n",
    "lapply(v, add_choice, choice=10)"
   ]
  },
  {
   "cell_type": "markdown",
   "metadata": {},
   "source": [
    "You can do this with several arguments, you just keep adding them after choice=10"
   ]
  },
  {
   "cell_type": "markdown",
   "metadata": {},
   "source": [
    "## sapply() vs. lapply()\n",
    "Notice that lapply returned a list, we can use sapply, which simplifies the process by returning a vector or matrix. For example:"
   ]
  },
  {
   "cell_type": "code",
   "execution_count": 17,
   "metadata": {},
   "outputs": [],
   "source": [
    "help(sapply)"
   ]
  },
  {
   "cell_type": "code",
   "execution_count": 18,
   "metadata": {},
   "outputs": [
    {
     "data": {
      "text/html": [
       "<ol class=list-inline>\n",
       "\t<li>11</li>\n",
       "\t<li>12</li>\n",
       "\t<li>13</li>\n",
       "\t<li>14</li>\n",
       "\t<li>15</li>\n",
       "</ol>\n"
      ],
      "text/latex": [
       "\\begin{enumerate*}\n",
       "\\item 11\n",
       "\\item 12\n",
       "\\item 13\n",
       "\\item 14\n",
       "\\item 15\n",
       "\\end{enumerate*}\n"
      ],
      "text/markdown": [
       "1. 11\n",
       "2. 12\n",
       "3. 13\n",
       "4. 14\n",
       "5. 15\n",
       "\n",
       "\n"
      ],
      "text/plain": [
       "[1] 11 12 13 14 15"
      ]
     },
     "metadata": {},
     "output_type": "display_data"
    }
   ],
   "source": [
    "# Use sapply instead of lapply for adding choices to v\n",
    "\n",
    "sapply(v, add_choice, choice=10)"
   ]
  },
  {
   "cell_type": "markdown",
   "metadata": {},
   "source": [
    "NOTE: See the difference in the output of sapply(). This changed from a list to a vector."
   ]
  },
  {
   "cell_type": "code",
   "execution_count": 19,
   "metadata": {},
   "outputs": [
    {
     "data": {
      "text/html": [
       "'list'"
      ],
      "text/latex": [
       "'list'"
      ],
      "text/markdown": [
       "'list'"
      ],
      "text/plain": [
       "[1] \"list\""
      ]
     },
     "metadata": {},
     "output_type": "display_data"
    },
    {
     "data": {
      "text/html": [
       "'numeric'"
      ],
      "text/latex": [
       "'numeric'"
      ],
      "text/markdown": [
       "'numeric'"
      ],
      "text/plain": [
       "[1] \"numeric\""
      ]
     },
     "metadata": {},
     "output_type": "display_data"
    }
   ],
   "source": [
    "# Show difference between lapply and sapply output\n",
    "lapp <- lapply(v,add_choice,choice=10)\n",
    "sapp <- sapply(v,add_choice,choice=10)\n",
    "\n",
    "class(lapp) # a list\n",
    "class(sapp) # vector of numerics"
   ]
  },
  {
   "cell_type": "markdown",
   "metadata": {},
   "source": [
    "## sapply() limitations\n",
    "sapply() won't be able to automatically return a vector if your applied function doesn't return something for all elements in that vector. For example:"
   ]
  },
  {
   "cell_type": "code",
   "execution_count": 20,
   "metadata": {},
   "outputs": [
    {
     "data": {
      "text/html": [
       "<ol>\n",
       "\t<li></li>\n",
       "\t<li>2</li>\n",
       "\t<li></li>\n",
       "\t<li>4</li>\n",
       "\t<li></li>\n",
       "</ol>\n"
      ],
      "text/latex": [
       "\\begin{enumerate}\n",
       "\\item \n",
       "\\item 2\n",
       "\\item \n",
       "\\item 4\n",
       "\\item \n",
       "\\end{enumerate}\n"
      ],
      "text/markdown": [
       "1. \n",
       "2. 2\n",
       "3. \n",
       "4. 4\n",
       "5. \n",
       "\n",
       "\n"
      ],
      "text/plain": [
       "[[1]]\n",
       "numeric(0)\n",
       "\n",
       "[[2]]\n",
       "[1] 2\n",
       "\n",
       "[[3]]\n",
       "numeric(0)\n",
       "\n",
       "[[4]]\n",
       "[1] 4\n",
       "\n",
       "[[5]]\n",
       "numeric(0)\n"
      ]
     },
     "metadata": {},
     "output_type": "display_data"
    }
   ],
   "source": [
    "# Checks for even numbers\n",
    "nums <- c(1,2,3,4,5)\n",
    "\n",
    "even <- function(x) {\n",
    "  return(x[(x %% 2 == 0)])\n",
    "}\n",
    "\n",
    "sapply(nums, even)"
   ]
  },
  {
   "cell_type": "code",
   "execution_count": 21,
   "metadata": {},
   "outputs": [
    {
     "data": {
      "text/html": [
       "<ol>\n",
       "\t<li></li>\n",
       "\t<li>2</li>\n",
       "\t<li></li>\n",
       "\t<li>4</li>\n",
       "\t<li></li>\n",
       "</ol>\n"
      ],
      "text/latex": [
       "\\begin{enumerate}\n",
       "\\item \n",
       "\\item 2\n",
       "\\item \n",
       "\\item 4\n",
       "\\item \n",
       "\\end{enumerate}\n"
      ],
      "text/markdown": [
       "1. \n",
       "2. 2\n",
       "3. \n",
       "4. 4\n",
       "5. \n",
       "\n",
       "\n"
      ],
      "text/plain": [
       "[[1]]\n",
       "numeric(0)\n",
       "\n",
       "[[2]]\n",
       "[1] 2\n",
       "\n",
       "[[3]]\n",
       "numeric(0)\n",
       "\n",
       "[[4]]\n",
       "[1] 4\n",
       "\n",
       "[[5]]\n",
       "numeric(0)\n"
      ]
     },
     "metadata": {},
     "output_type": "display_data"
    }
   ],
   "source": [
    "lapply(nums, even)"
   ]
  },
  {
   "cell_type": "markdown",
   "metadata": {},
   "source": [
    "## Apply to Dataframes\n",
    "\n",
    "The apply functions can be used to add or change existing columns of dataframes"
   ]
  },
  {
   "cell_type": "code",
   "execution_count": 23,
   "metadata": {},
   "outputs": [],
   "source": [
    "## Apply to Dataframes\n",
    "\n",
    "p_yield = read.csv('peanut_yield.txt', sep='\\t', header=TRUE)"
   ]
  },
  {
   "cell_type": "code",
   "execution_count": 24,
   "metadata": {},
   "outputs": [
    {
     "data": {
      "text/html": [
       "<table>\n",
       "<caption>A data.frame: 6 × 7</caption>\n",
       "<thead>\n",
       "\t<tr><th scope=col>Year</th><th scope=col>Location</th><th scope=col>Name</th><th scope=col>Label</th><th scope=col>NC_Accession</th><th scope=col>Plot_Yield</th><th scope=col>Yield</th></tr>\n",
       "\t<tr><th scope=col>&lt;int&gt;</th><th scope=col>&lt;fct&gt;</th><th scope=col>&lt;fct&gt;</th><th scope=col>&lt;fct&gt;</th><th scope=col>&lt;fct&gt;</th><th scope=col>&lt;dbl&gt;</th><th scope=col>&lt;int&gt;</th></tr>\n",
       "</thead>\n",
       "<tbody>\n",
       "\t<tr><td>2014</td><td>LEW</td><td>ATP</td><td>Advanced Testing Program - Yield</td><td>ACI WT09-0761</td><td> 9.0</td><td>2733</td></tr>\n",
       "\t<tr><td>2014</td><td>RMT</td><td>ATP</td><td>Advanced Testing Program - Yield</td><td>ACI WT09-0761</td><td>10.2</td><td>3085</td></tr>\n",
       "\t<tr><td>2014</td><td>WHI</td><td>ATP</td><td>Advanced Testing Program - Yield</td><td>ACI WT09-0761</td><td>10.2</td><td>3085</td></tr>\n",
       "\t<tr><td>2015</td><td>LEW</td><td>ATP</td><td>Advanced Testing Program - Yield</td><td>ACI WT11-0351</td><td>15.3</td><td>4632</td></tr>\n",
       "\t<tr><td>2015</td><td>RMT</td><td>ATP</td><td>Advanced Testing Program - Yield</td><td>ACI WT11-0351</td><td>10.7</td><td>3226</td></tr>\n",
       "\t<tr><td>2015</td><td>LEW</td><td>ATP</td><td>Advanced Testing Program - Yield</td><td>ACI WT12-0226</td><td>13.6</td><td>4104</td></tr>\n",
       "</tbody>\n",
       "</table>\n"
      ],
      "text/latex": [
       "A data.frame: 6 × 7\n",
       "\\begin{tabular}{r|lllllll}\n",
       " Year & Location & Name & Label & NC\\_Accession & Plot\\_Yield & Yield\\\\\n",
       " <int> & <fct> & <fct> & <fct> & <fct> & <dbl> & <int>\\\\\n",
       "\\hline\n",
       "\t 2014 & LEW & ATP & Advanced Testing Program - Yield & ACI WT09-0761 &  9.0 & 2733\\\\\n",
       "\t 2014 & RMT & ATP & Advanced Testing Program - Yield & ACI WT09-0761 & 10.2 & 3085\\\\\n",
       "\t 2014 & WHI & ATP & Advanced Testing Program - Yield & ACI WT09-0761 & 10.2 & 3085\\\\\n",
       "\t 2015 & LEW & ATP & Advanced Testing Program - Yield & ACI WT11-0351 & 15.3 & 4632\\\\\n",
       "\t 2015 & RMT & ATP & Advanced Testing Program - Yield & ACI WT11-0351 & 10.7 & 3226\\\\\n",
       "\t 2015 & LEW & ATP & Advanced Testing Program - Yield & ACI WT12-0226 & 13.6 & 4104\\\\\n",
       "\\end{tabular}\n"
      ],
      "text/markdown": [
       "\n",
       "A data.frame: 6 × 7\n",
       "\n",
       "| Year &lt;int&gt; | Location &lt;fct&gt; | Name &lt;fct&gt; | Label &lt;fct&gt; | NC_Accession &lt;fct&gt; | Plot_Yield &lt;dbl&gt; | Yield &lt;int&gt; |\n",
       "|---|---|---|---|---|---|---|\n",
       "| 2014 | LEW | ATP | Advanced Testing Program - Yield | ACI WT09-0761 |  9.0 | 2733 |\n",
       "| 2014 | RMT | ATP | Advanced Testing Program - Yield | ACI WT09-0761 | 10.2 | 3085 |\n",
       "| 2014 | WHI | ATP | Advanced Testing Program - Yield | ACI WT09-0761 | 10.2 | 3085 |\n",
       "| 2015 | LEW | ATP | Advanced Testing Program - Yield | ACI WT11-0351 | 15.3 | 4632 |\n",
       "| 2015 | RMT | ATP | Advanced Testing Program - Yield | ACI WT11-0351 | 10.7 | 3226 |\n",
       "| 2015 | LEW | ATP | Advanced Testing Program - Yield | ACI WT12-0226 | 13.6 | 4104 |\n",
       "\n"
      ],
      "text/plain": [
       "  Year Location Name Label                            NC_Accession  Plot_Yield\n",
       "1 2014 LEW      ATP  Advanced Testing Program - Yield ACI WT09-0761  9.0      \n",
       "2 2014 RMT      ATP  Advanced Testing Program - Yield ACI WT09-0761 10.2      \n",
       "3 2014 WHI      ATP  Advanced Testing Program - Yield ACI WT09-0761 10.2      \n",
       "4 2015 LEW      ATP  Advanced Testing Program - Yield ACI WT11-0351 15.3      \n",
       "5 2015 RMT      ATP  Advanced Testing Program - Yield ACI WT11-0351 10.7      \n",
       "6 2015 LEW      ATP  Advanced Testing Program - Yield ACI WT12-0226 13.6      \n",
       "  Yield\n",
       "1 2733 \n",
       "2 3085 \n",
       "3 3085 \n",
       "4 4632 \n",
       "5 3226 \n",
       "6 4104 "
      ]
     },
     "metadata": {},
     "output_type": "display_data"
    }
   ],
   "source": [
    "head(p_yield)"
   ]
  },
  {
   "cell_type": "code",
   "execution_count": 26,
   "metadata": {},
   "outputs": [],
   "source": [
    "p_yield['Test_Yield'] <- lapply(p_yield['Plot_Yield'], function(x){x*302.5})"
   ]
  },
  {
   "cell_type": "code",
   "execution_count": 27,
   "metadata": {},
   "outputs": [
    {
     "data": {
      "text/html": [
       "<table>\n",
       "<caption>A data.frame: 6 × 8</caption>\n",
       "<thead>\n",
       "\t<tr><th scope=col>Year</th><th scope=col>Location</th><th scope=col>Name</th><th scope=col>Label</th><th scope=col>NC_Accession</th><th scope=col>Plot_Yield</th><th scope=col>Yield</th><th scope=col>Test_Yield</th></tr>\n",
       "\t<tr><th scope=col>&lt;int&gt;</th><th scope=col>&lt;fct&gt;</th><th scope=col>&lt;fct&gt;</th><th scope=col>&lt;fct&gt;</th><th scope=col>&lt;fct&gt;</th><th scope=col>&lt;dbl&gt;</th><th scope=col>&lt;int&gt;</th><th scope=col>&lt;dbl[,1]&gt;</th></tr>\n",
       "</thead>\n",
       "<tbody>\n",
       "\t<tr><td>2014</td><td>LEW</td><td>ATP</td><td>Advanced Testing Program - Yield</td><td>ACI WT09-0761</td><td> 9.0</td><td>2733</td><td>2722.50</td></tr>\n",
       "\t<tr><td>2014</td><td>RMT</td><td>ATP</td><td>Advanced Testing Program - Yield</td><td>ACI WT09-0761</td><td>10.2</td><td>3085</td><td>3085.50</td></tr>\n",
       "\t<tr><td>2014</td><td>WHI</td><td>ATP</td><td>Advanced Testing Program - Yield</td><td>ACI WT09-0761</td><td>10.2</td><td>3085</td><td>3085.50</td></tr>\n",
       "\t<tr><td>2015</td><td>LEW</td><td>ATP</td><td>Advanced Testing Program - Yield</td><td>ACI WT11-0351</td><td>15.3</td><td>4632</td><td>4628.25</td></tr>\n",
       "\t<tr><td>2015</td><td>RMT</td><td>ATP</td><td>Advanced Testing Program - Yield</td><td>ACI WT11-0351</td><td>10.7</td><td>3226</td><td>3236.75</td></tr>\n",
       "\t<tr><td>2015</td><td>LEW</td><td>ATP</td><td>Advanced Testing Program - Yield</td><td>ACI WT12-0226</td><td>13.6</td><td>4104</td><td>4114.00</td></tr>\n",
       "</tbody>\n",
       "</table>\n"
      ],
      "text/latex": [
       "A data.frame: 6 × 8\n",
       "\\begin{tabular}{r|llllllll}\n",
       " Year & Location & Name & Label & NC\\_Accession & Plot\\_Yield & Yield & Test\\_Yield\\\\\n",
       " <int> & <fct> & <fct> & <fct> & <fct> & <dbl> & <int> & <dbl{[},1{]}>\\\\\n",
       "\\hline\n",
       "\t 2014 & LEW & ATP & Advanced Testing Program - Yield & ACI WT09-0761 &  9.0 & 2733 & 2722.50\\\\\n",
       "\t 2014 & RMT & ATP & Advanced Testing Program - Yield & ACI WT09-0761 & 10.2 & 3085 & 3085.50\\\\\n",
       "\t 2014 & WHI & ATP & Advanced Testing Program - Yield & ACI WT09-0761 & 10.2 & 3085 & 3085.50\\\\\n",
       "\t 2015 & LEW & ATP & Advanced Testing Program - Yield & ACI WT11-0351 & 15.3 & 4632 & 4628.25\\\\\n",
       "\t 2015 & RMT & ATP & Advanced Testing Program - Yield & ACI WT11-0351 & 10.7 & 3226 & 3236.75\\\\\n",
       "\t 2015 & LEW & ATP & Advanced Testing Program - Yield & ACI WT12-0226 & 13.6 & 4104 & 4114.00\\\\\n",
       "\\end{tabular}\n"
      ],
      "text/markdown": [
       "\n",
       "A data.frame: 6 × 8\n",
       "\n",
       "| Year &lt;int&gt; | Location &lt;fct&gt; | Name &lt;fct&gt; | Label &lt;fct&gt; | NC_Accession &lt;fct&gt; | Plot_Yield &lt;dbl&gt; | Yield &lt;int&gt; | Test_Yield &lt;dbl[,1]&gt; |\n",
       "|---|---|---|---|---|---|---|---|\n",
       "| 2014 | LEW | ATP | Advanced Testing Program - Yield | ACI WT09-0761 |  9.0 | 2733 | 2722.50 |\n",
       "| 2014 | RMT | ATP | Advanced Testing Program - Yield | ACI WT09-0761 | 10.2 | 3085 | 3085.50 |\n",
       "| 2014 | WHI | ATP | Advanced Testing Program - Yield | ACI WT09-0761 | 10.2 | 3085 | 3085.50 |\n",
       "| 2015 | LEW | ATP | Advanced Testing Program - Yield | ACI WT11-0351 | 15.3 | 4632 | 4628.25 |\n",
       "| 2015 | RMT | ATP | Advanced Testing Program - Yield | ACI WT11-0351 | 10.7 | 3226 | 3236.75 |\n",
       "| 2015 | LEW | ATP | Advanced Testing Program - Yield | ACI WT12-0226 | 13.6 | 4104 | 4114.00 |\n",
       "\n"
      ],
      "text/plain": [
       "  Year Location Name Label                            NC_Accession  Plot_Yield\n",
       "1 2014 LEW      ATP  Advanced Testing Program - Yield ACI WT09-0761  9.0      \n",
       "2 2014 RMT      ATP  Advanced Testing Program - Yield ACI WT09-0761 10.2      \n",
       "3 2014 WHI      ATP  Advanced Testing Program - Yield ACI WT09-0761 10.2      \n",
       "4 2015 LEW      ATP  Advanced Testing Program - Yield ACI WT11-0351 15.3      \n",
       "5 2015 RMT      ATP  Advanced Testing Program - Yield ACI WT11-0351 10.7      \n",
       "6 2015 LEW      ATP  Advanced Testing Program - Yield ACI WT12-0226 13.6      \n",
       "  Yield Test_Yield\n",
       "1 2733  2722.50   \n",
       "2 3085  3085.50   \n",
       "3 3085  3085.50   \n",
       "4 4632  4628.25   \n",
       "5 3226  3236.75   \n",
       "6 4104  4114.00   "
      ]
     },
     "metadata": {},
     "output_type": "display_data"
    }
   ],
   "source": [
    "head(p_yield)"
   ]
  },
  {
   "cell_type": "code",
   "execution_count": 29,
   "metadata": {},
   "outputs": [],
   "source": [
    "p_yield['Test_Yield2'] <- sapply(p_yield['Plot_Yield'], function(x){x*302.5})"
   ]
  },
  {
   "cell_type": "code",
   "execution_count": 30,
   "metadata": {},
   "outputs": [
    {
     "data": {
      "text/html": [
       "<table>\n",
       "<caption>A data.frame: 6 × 9</caption>\n",
       "<thead>\n",
       "\t<tr><th scope=col>Year</th><th scope=col>Location</th><th scope=col>Name</th><th scope=col>Label</th><th scope=col>NC_Accession</th><th scope=col>Plot_Yield</th><th scope=col>Yield</th><th scope=col>Test_Yield</th><th scope=col>Test_Yield2</th></tr>\n",
       "\t<tr><th scope=col>&lt;int&gt;</th><th scope=col>&lt;fct&gt;</th><th scope=col>&lt;fct&gt;</th><th scope=col>&lt;fct&gt;</th><th scope=col>&lt;fct&gt;</th><th scope=col>&lt;dbl&gt;</th><th scope=col>&lt;int&gt;</th><th scope=col>&lt;dbl[,1]&gt;</th><th scope=col>&lt;dbl&gt;</th></tr>\n",
       "</thead>\n",
       "<tbody>\n",
       "\t<tr><td>2014</td><td>LEW</td><td>ATP</td><td>Advanced Testing Program - Yield</td><td>ACI WT09-0761</td><td> 9.0</td><td>2733</td><td>2722.50</td><td>2722.50</td></tr>\n",
       "\t<tr><td>2014</td><td>RMT</td><td>ATP</td><td>Advanced Testing Program - Yield</td><td>ACI WT09-0761</td><td>10.2</td><td>3085</td><td>3085.50</td><td>3085.50</td></tr>\n",
       "\t<tr><td>2014</td><td>WHI</td><td>ATP</td><td>Advanced Testing Program - Yield</td><td>ACI WT09-0761</td><td>10.2</td><td>3085</td><td>3085.50</td><td>3085.50</td></tr>\n",
       "\t<tr><td>2015</td><td>LEW</td><td>ATP</td><td>Advanced Testing Program - Yield</td><td>ACI WT11-0351</td><td>15.3</td><td>4632</td><td>4628.25</td><td>4628.25</td></tr>\n",
       "\t<tr><td>2015</td><td>RMT</td><td>ATP</td><td>Advanced Testing Program - Yield</td><td>ACI WT11-0351</td><td>10.7</td><td>3226</td><td>3236.75</td><td>3236.75</td></tr>\n",
       "\t<tr><td>2015</td><td>LEW</td><td>ATP</td><td>Advanced Testing Program - Yield</td><td>ACI WT12-0226</td><td>13.6</td><td>4104</td><td>4114.00</td><td>4114.00</td></tr>\n",
       "</tbody>\n",
       "</table>\n"
      ],
      "text/latex": [
       "A data.frame: 6 × 9\n",
       "\\begin{tabular}{r|lllllllll}\n",
       " Year & Location & Name & Label & NC\\_Accession & Plot\\_Yield & Yield & Test\\_Yield & Test\\_Yield2\\\\\n",
       " <int> & <fct> & <fct> & <fct> & <fct> & <dbl> & <int> & <dbl{[},1{]}> & <dbl>\\\\\n",
       "\\hline\n",
       "\t 2014 & LEW & ATP & Advanced Testing Program - Yield & ACI WT09-0761 &  9.0 & 2733 & 2722.50 & 2722.50\\\\\n",
       "\t 2014 & RMT & ATP & Advanced Testing Program - Yield & ACI WT09-0761 & 10.2 & 3085 & 3085.50 & 3085.50\\\\\n",
       "\t 2014 & WHI & ATP & Advanced Testing Program - Yield & ACI WT09-0761 & 10.2 & 3085 & 3085.50 & 3085.50\\\\\n",
       "\t 2015 & LEW & ATP & Advanced Testing Program - Yield & ACI WT11-0351 & 15.3 & 4632 & 4628.25 & 4628.25\\\\\n",
       "\t 2015 & RMT & ATP & Advanced Testing Program - Yield & ACI WT11-0351 & 10.7 & 3226 & 3236.75 & 3236.75\\\\\n",
       "\t 2015 & LEW & ATP & Advanced Testing Program - Yield & ACI WT12-0226 & 13.6 & 4104 & 4114.00 & 4114.00\\\\\n",
       "\\end{tabular}\n"
      ],
      "text/markdown": [
       "\n",
       "A data.frame: 6 × 9\n",
       "\n",
       "| Year &lt;int&gt; | Location &lt;fct&gt; | Name &lt;fct&gt; | Label &lt;fct&gt; | NC_Accession &lt;fct&gt; | Plot_Yield &lt;dbl&gt; | Yield &lt;int&gt; | Test_Yield &lt;dbl[,1]&gt; | Test_Yield2 &lt;dbl&gt; |\n",
       "|---|---|---|---|---|---|---|---|---|\n",
       "| 2014 | LEW | ATP | Advanced Testing Program - Yield | ACI WT09-0761 |  9.0 | 2733 | 2722.50 | 2722.50 |\n",
       "| 2014 | RMT | ATP | Advanced Testing Program - Yield | ACI WT09-0761 | 10.2 | 3085 | 3085.50 | 3085.50 |\n",
       "| 2014 | WHI | ATP | Advanced Testing Program - Yield | ACI WT09-0761 | 10.2 | 3085 | 3085.50 | 3085.50 |\n",
       "| 2015 | LEW | ATP | Advanced Testing Program - Yield | ACI WT11-0351 | 15.3 | 4632 | 4628.25 | 4628.25 |\n",
       "| 2015 | RMT | ATP | Advanced Testing Program - Yield | ACI WT11-0351 | 10.7 | 3226 | 3236.75 | 3236.75 |\n",
       "| 2015 | LEW | ATP | Advanced Testing Program - Yield | ACI WT12-0226 | 13.6 | 4104 | 4114.00 | 4114.00 |\n",
       "\n"
      ],
      "text/plain": [
       "  Year Location Name Label                            NC_Accession  Plot_Yield\n",
       "1 2014 LEW      ATP  Advanced Testing Program - Yield ACI WT09-0761  9.0      \n",
       "2 2014 RMT      ATP  Advanced Testing Program - Yield ACI WT09-0761 10.2      \n",
       "3 2014 WHI      ATP  Advanced Testing Program - Yield ACI WT09-0761 10.2      \n",
       "4 2015 LEW      ATP  Advanced Testing Program - Yield ACI WT11-0351 15.3      \n",
       "5 2015 RMT      ATP  Advanced Testing Program - Yield ACI WT11-0351 10.7      \n",
       "6 2015 LEW      ATP  Advanced Testing Program - Yield ACI WT12-0226 13.6      \n",
       "  Yield Test_Yield Test_Yield2\n",
       "1 2733  2722.50    2722.50    \n",
       "2 3085  3085.50    3085.50    \n",
       "3 3085  3085.50    3085.50    \n",
       "4 4632  4628.25    4628.25    \n",
       "5 3226  3236.75    3236.75    \n",
       "6 4104  4114.00    4114.00    "
      ]
     },
     "metadata": {},
     "output_type": "display_data"
    }
   ],
   "source": [
    "head(p_yield)"
   ]
  },
  {
   "cell_type": "code",
   "execution_count": 50,
   "metadata": {},
   "outputs": [
    {
     "data": {
      "text/html": [
       "'Yes'"
      ],
      "text/latex": [
       "'Yes'"
      ],
      "text/markdown": [
       "'Yes'"
      ],
      "text/plain": [
       "[1] \"Yes\""
      ]
     },
     "metadata": {},
     "output_type": "display_data"
    }
   ],
   "source": [
    "# If else statments using sapply, lapply\n",
    "\n",
    "map_condition <- function(x){\n",
    "    if (x > 3000){\n",
    "        return('Yes')\n",
    "    }else{\n",
    "        return('No')\n",
    "    }\n",
    "}\n",
    "\n",
    "map_condition(3100)"
   ]
  },
  {
   "cell_type": "code",
   "execution_count": 54,
   "metadata": {},
   "outputs": [
    {
     "data": {
      "text/html": [
       "<ol>\n",
       "\t<li>'No'</li>\n",
       "\t<li>'Yes'</li>\n",
       "\t<li>'Yes'</li>\n",
       "\t<li>'Yes'</li>\n",
       "\t<li>'Yes'</li>\n",
       "\t<li>'Yes'</li>\n",
       "</ol>\n"
      ],
      "text/latex": [
       "\\begin{enumerate}\n",
       "\\item 'No'\n",
       "\\item 'Yes'\n",
       "\\item 'Yes'\n",
       "\\item 'Yes'\n",
       "\\item 'Yes'\n",
       "\\item 'Yes'\n",
       "\\end{enumerate}\n"
      ],
      "text/markdown": [
       "1. 'No'\n",
       "2. 'Yes'\n",
       "3. 'Yes'\n",
       "4. 'Yes'\n",
       "5. 'Yes'\n",
       "6. 'Yes'\n",
       "\n",
       "\n"
      ],
      "text/plain": [
       "[[1]]\n",
       "[1] \"No\"\n",
       "\n",
       "[[2]]\n",
       "[1] \"Yes\"\n",
       "\n",
       "[[3]]\n",
       "[1] \"Yes\"\n",
       "\n",
       "[[4]]\n",
       "[1] \"Yes\"\n",
       "\n",
       "[[5]]\n",
       "[1] \"Yes\"\n",
       "\n",
       "[[6]]\n",
       "[1] \"Yes\"\n"
      ]
     },
     "metadata": {},
     "output_type": "display_data"
    }
   ],
   "source": [
    "# Use lapply to map the function map_condtion\n",
    "head(lapply(p_yield[['Yield']], map_condition))"
   ]
  },
  {
   "cell_type": "markdown",
   "metadata": {},
   "source": [
    "## ifelse() function\n",
    "\n",
    "Instead of having to write a function using an IF, ELSE statement, there is a built-in R function called **ifelse()** that allows you to code a binary result based on a condition. Let's look at an example to create a new data column from an existing data column in a dataframe. "
   ]
  },
  {
   "cell_type": "code",
   "execution_count": 42,
   "metadata": {},
   "outputs": [
    {
     "data": {
      "text/html": [
       "<table>\n",
       "<caption>A data.frame: 6 × 10</caption>\n",
       "<thead>\n",
       "\t<tr><th scope=col>Year</th><th scope=col>Location</th><th scope=col>Name</th><th scope=col>Label</th><th scope=col>NC_Accession</th><th scope=col>Plot_Yield</th><th scope=col>Yield</th><th scope=col>Test_Yield</th><th scope=col>Test_Yield2</th><th scope=col>Select</th></tr>\n",
       "\t<tr><th scope=col>&lt;int&gt;</th><th scope=col>&lt;fct&gt;</th><th scope=col>&lt;fct&gt;</th><th scope=col>&lt;fct&gt;</th><th scope=col>&lt;fct&gt;</th><th scope=col>&lt;dbl&gt;</th><th scope=col>&lt;int&gt;</th><th scope=col>&lt;dbl[,1]&gt;</th><th scope=col>&lt;dbl&gt;</th><th scope=col>&lt;chr[,1]&gt;</th></tr>\n",
       "</thead>\n",
       "<tbody>\n",
       "\t<tr><td>2014</td><td>LEW</td><td>ATP</td><td>Advanced Testing Program - Yield</td><td>ACI WT09-0761</td><td> 9.0</td><td>2733</td><td>2722.50</td><td>2722.50</td><td>Drop  </td></tr>\n",
       "\t<tr><td>2014</td><td>RMT</td><td>ATP</td><td>Advanced Testing Program - Yield</td><td>ACI WT09-0761</td><td>10.2</td><td>3085</td><td>3085.50</td><td>3085.50</td><td>Select</td></tr>\n",
       "\t<tr><td>2014</td><td>WHI</td><td>ATP</td><td>Advanced Testing Program - Yield</td><td>ACI WT09-0761</td><td>10.2</td><td>3085</td><td>3085.50</td><td>3085.50</td><td>Select</td></tr>\n",
       "\t<tr><td>2015</td><td>LEW</td><td>ATP</td><td>Advanced Testing Program - Yield</td><td>ACI WT11-0351</td><td>15.3</td><td>4632</td><td>4628.25</td><td>4628.25</td><td>Select</td></tr>\n",
       "\t<tr><td>2015</td><td>RMT</td><td>ATP</td><td>Advanced Testing Program - Yield</td><td>ACI WT11-0351</td><td>10.7</td><td>3226</td><td>3236.75</td><td>3236.75</td><td>Select</td></tr>\n",
       "\t<tr><td>2015</td><td>LEW</td><td>ATP</td><td>Advanced Testing Program - Yield</td><td>ACI WT12-0226</td><td>13.6</td><td>4104</td><td>4114.00</td><td>4114.00</td><td>Select</td></tr>\n",
       "</tbody>\n",
       "</table>\n"
      ],
      "text/latex": [
       "A data.frame: 6 × 10\n",
       "\\begin{tabular}{r|llllllllll}\n",
       " Year & Location & Name & Label & NC\\_Accession & Plot\\_Yield & Yield & Test\\_Yield & Test\\_Yield2 & Select\\\\\n",
       " <int> & <fct> & <fct> & <fct> & <fct> & <dbl> & <int> & <dbl{[},1{]}> & <dbl> & <chr{[},1{]}>\\\\\n",
       "\\hline\n",
       "\t 2014 & LEW & ATP & Advanced Testing Program - Yield & ACI WT09-0761 &  9.0 & 2733 & 2722.50 & 2722.50 & Drop  \\\\\n",
       "\t 2014 & RMT & ATP & Advanced Testing Program - Yield & ACI WT09-0761 & 10.2 & 3085 & 3085.50 & 3085.50 & Select\\\\\n",
       "\t 2014 & WHI & ATP & Advanced Testing Program - Yield & ACI WT09-0761 & 10.2 & 3085 & 3085.50 & 3085.50 & Select\\\\\n",
       "\t 2015 & LEW & ATP & Advanced Testing Program - Yield & ACI WT11-0351 & 15.3 & 4632 & 4628.25 & 4628.25 & Select\\\\\n",
       "\t 2015 & RMT & ATP & Advanced Testing Program - Yield & ACI WT11-0351 & 10.7 & 3226 & 3236.75 & 3236.75 & Select\\\\\n",
       "\t 2015 & LEW & ATP & Advanced Testing Program - Yield & ACI WT12-0226 & 13.6 & 4104 & 4114.00 & 4114.00 & Select\\\\\n",
       "\\end{tabular}\n"
      ],
      "text/markdown": [
       "\n",
       "A data.frame: 6 × 10\n",
       "\n",
       "| Year &lt;int&gt; | Location &lt;fct&gt; | Name &lt;fct&gt; | Label &lt;fct&gt; | NC_Accession &lt;fct&gt; | Plot_Yield &lt;dbl&gt; | Yield &lt;int&gt; | Test_Yield &lt;dbl[,1]&gt; | Test_Yield2 &lt;dbl&gt; | Select &lt;chr[,1]&gt; |\n",
       "|---|---|---|---|---|---|---|---|---|---|\n",
       "| 2014 | LEW | ATP | Advanced Testing Program - Yield | ACI WT09-0761 |  9.0 | 2733 | 2722.50 | 2722.50 | Drop   |\n",
       "| 2014 | RMT | ATP | Advanced Testing Program - Yield | ACI WT09-0761 | 10.2 | 3085 | 3085.50 | 3085.50 | Select |\n",
       "| 2014 | WHI | ATP | Advanced Testing Program - Yield | ACI WT09-0761 | 10.2 | 3085 | 3085.50 | 3085.50 | Select |\n",
       "| 2015 | LEW | ATP | Advanced Testing Program - Yield | ACI WT11-0351 | 15.3 | 4632 | 4628.25 | 4628.25 | Select |\n",
       "| 2015 | RMT | ATP | Advanced Testing Program - Yield | ACI WT11-0351 | 10.7 | 3226 | 3236.75 | 3236.75 | Select |\n",
       "| 2015 | LEW | ATP | Advanced Testing Program - Yield | ACI WT12-0226 | 13.6 | 4104 | 4114.00 | 4114.00 | Select |\n",
       "\n"
      ],
      "text/plain": [
       "  Year Location Name Label                            NC_Accession  Plot_Yield\n",
       "1 2014 LEW      ATP  Advanced Testing Program - Yield ACI WT09-0761  9.0      \n",
       "2 2014 RMT      ATP  Advanced Testing Program - Yield ACI WT09-0761 10.2      \n",
       "3 2014 WHI      ATP  Advanced Testing Program - Yield ACI WT09-0761 10.2      \n",
       "4 2015 LEW      ATP  Advanced Testing Program - Yield ACI WT11-0351 15.3      \n",
       "5 2015 RMT      ATP  Advanced Testing Program - Yield ACI WT11-0351 10.7      \n",
       "6 2015 LEW      ATP  Advanced Testing Program - Yield ACI WT12-0226 13.6      \n",
       "  Yield Test_Yield Test_Yield2 Select\n",
       "1 2733  2722.50    2722.50     Drop  \n",
       "2 3085  3085.50    3085.50     Select\n",
       "3 3085  3085.50    3085.50     Select\n",
       "4 4632  4628.25    4628.25     Select\n",
       "5 3226  3236.75    3236.75     Select\n",
       "6 4104  4114.00    4114.00     Select"
      ]
     },
     "metadata": {},
     "output_type": "display_data"
    }
   ],
   "source": [
    "# Use 'Yield' > 3000 to determine whether you should select a line or not\n",
    "p_yield['Select'] <- ifelse(p_yield['Yield'] > 3000, 'Select', 'Drop')\n",
    "head(p_yield)"
   ]
  },
  {
   "cell_type": "code",
   "execution_count": 57,
   "metadata": {},
   "outputs": [
    {
     "data": {
      "text/html": [
       "<table>\n",
       "<caption>A matrix: 10 × 1 of type chr</caption>\n",
       "<thead>\n",
       "\t<tr><th scope=col>Yield</th></tr>\n",
       "</thead>\n",
       "<tbody>\n",
       "\t<tr><td>Keep  </td></tr>\n",
       "\t<tr><td>Select</td></tr>\n",
       "\t<tr><td>Select</td></tr>\n",
       "\t<tr><td>Select</td></tr>\n",
       "\t<tr><td>Select</td></tr>\n",
       "\t<tr><td>Select</td></tr>\n",
       "\t<tr><td>Select</td></tr>\n",
       "\t<tr><td>Drop  </td></tr>\n",
       "\t<tr><td>Keep  </td></tr>\n",
       "\t<tr><td>Keep  </td></tr>\n",
       "</tbody>\n",
       "</table>\n"
      ],
      "text/latex": [
       "A matrix: 10 × 1 of type chr\n",
       "\\begin{tabular}{l}\n",
       " Yield\\\\\n",
       "\\hline\n",
       "\t Keep  \\\\\n",
       "\t Select\\\\\n",
       "\t Select\\\\\n",
       "\t Select\\\\\n",
       "\t Select\\\\\n",
       "\t Select\\\\\n",
       "\t Select\\\\\n",
       "\t Drop  \\\\\n",
       "\t Keep  \\\\\n",
       "\t Keep  \\\\\n",
       "\\end{tabular}\n"
      ],
      "text/markdown": [
       "\n",
       "A matrix: 10 × 1 of type chr\n",
       "\n",
       "| Yield |\n",
       "|---|\n",
       "| Keep   |\n",
       "| Select |\n",
       "| Select |\n",
       "| Select |\n",
       "| Select |\n",
       "| Select |\n",
       "| Select |\n",
       "| Drop   |\n",
       "| Keep   |\n",
       "| Keep   |\n",
       "\n"
      ],
      "text/plain": [
       "      Yield \n",
       " [1,] Keep  \n",
       " [2,] Select\n",
       " [3,] Select\n",
       " [4,] Select\n",
       " [5,] Select\n",
       " [6,] Select\n",
       " [7,] Select\n",
       " [8,] Drop  \n",
       " [9,] Keep  \n",
       "[10,] Keep  "
      ]
     },
     "metadata": {},
     "output_type": "display_data"
    }
   ],
   "source": [
    "# Multiple conditions\n",
    "head(ifelse(p_yield['Yield'] > 3000, 'Select', ifelse(p_yield['Yield'] < 2000, 'Drop', 'Keep')), 10)"
   ]
  },
  {
   "cell_type": "markdown",
   "metadata": {},
   "source": [
    "## Other apply() type functions\n",
    "There are actually quite a few apply() type functions in R. We've gone over everything you need to know for now. But if your curious in finding out more about them, you can check out this documentation or this excellent StackOverflow answer, copied here below:\n",
    "\n",
    "R has many *apply* functions which are ably described in the help files (e.g. ?apply). There are enough of them, though, that beginning useRs may have difficulty deciding which one is appropriate for their situation or even remembering them all. They may have a general sense that \"I should be using an *apply function here\", but it can be tough to keep them all straight at first.\n",
    "\n",
    "Despite the fact (noted in other answers) that much of the functionality of the *apply* family is covered by the extremely popular plyr package, the base functions remain useful and worth knowing.\n",
    "\n",
    "This answer is intended to act as a sort of signpost for new useRs to help direct them to the correct *apply* function for their particular problem. Note, this is not intended to simply regurgitate or replace the R documentation! The hope is that this answer helps you to decide which *apply* function suits your situation and then it is up to you to research it further. With one exception, performance differences will not be addressed.\n",
    "\n",
    "* **Apply** - When you want to apply a function to the rows or columns of a matrix (and higher-dimensional analogues); not generally advisable for data frames as it will coerce to a matrix first.\n",
    "\n",
    ">#### Two dimensional matrix\n",
    "    M <- matrix(seq(1,16), 4, 4)\n",
    "\n",
    ">#### apply min to rows\n",
    "    apply(M, 1, min)\n",
    "    [1] 1 2 3 4\n",
    "\n",
    ">#### apply max to columns\n",
    "    apply(M, 2, max)\n",
    "    [1]  4  8 12 16\n",
    "\n",
    ">#### Three-dimensional array\n",
    "    M <- array(seq(32), dim = c(4,4,2))\n",
    "\n",
    ">#### Apply sum across each M[*, , ] - i.e Sum across 2nd and 3rd dimension\n",
    "    apply(M, 1, sum)\n",
    "\n",
    ">#### Result is one-dimensional\n",
    "    [1] 120 128 136 144\n",
    "\n",
    ">#### Apply sum across each M[*, *, ] - i.e Sum across 3rd dimension\n",
    "    apply(M, c(1,2), sum)\n",
    "\n",
    ">#### Result is two-dimensional\n",
    "         [,1] [,2] [,3] [,4]\n",
    "    [1,]   18   26   34   42\n",
    "    [2,]   20   28   36   44\n",
    "    [3,]   22   30   38   46\n",
    "    [4,]   24   32   40   48\n",
    "\n",
    "If you want row/column means or sums for a 2D matrix, be sure to investigate the highly optimized, lightning-quick colMeans, rowMeans, colSums, rowSums.\n",
    "\n",
    "\n",
    "* **Lapply** - When you want to apply a function to each element of a list in turn and get a list back.\n",
    "\n",
    "This is the workhorse of many of the other *apply* functions. Peel back their code and you will often find lapply underneath.\n",
    "\n",
    "x <- list(a = 1, b = 1:3, c = 10:100) \n",
    "    \n",
    "    lapply(x, FUN = length)\n",
    "    a\n",
    "    [1] 1\n",
    "    b\n",
    "    [1] 3\n",
    "    c\n",
    "    [1] 91\n",
    "\n",
    "    lapply(x, FUN = sum) \n",
    "    a \n",
    "    [1] 1\n",
    "    b \n",
    "    [1] 6\n",
    "    c \n",
    "    [1] 5005\n",
    "\n",
    "* **Sapply** - When you want to apply a function to each element of a list in turn, but you want a vector back, rather than a list.\n",
    "\n",
    "If you find yourself typing unlist(lapply(...)), stop and consider sapply.\n",
    "\n",
    "x <- list(a = 1, b = 1:3, c = 10:100)\n",
    "\n",
    "Compare with above; a named vector, not a list \n",
    "    \n",
    "    sapply(x, FUN = length)  \n",
    "    a  b  c   \n",
    "    1  3 91\n",
    "\n",
    "    sapply(x, FUN = sum)   \n",
    "    a    b    c    \n",
    "    1    6 5005 \n",
    "\n",
    "In more advanced uses of sapply it will attempt to coerce the result to a multi-dimensional array, if appropriate. For example, if our function returns vectors of the same length, sapply will use them as columns of a matrix:\n",
    "\n",
    "    sapply(1:5,function(x) rnorm(3,x))\n",
    "   \n",
    "If our function returns a 2 dimensional matrix, sapply will do essentially the same thing, treating each returned matrix as a single long vector:\n",
    "\n",
    "    sapply(1:5,function(x) matrix(x,2,2))\n",
    "   \n",
    "Unless we specify simplify = \"array\", in which case it will use the individual matrices to build a multi-dimensional array:\n",
    "\n",
    "    sapply(1:5,function(x) matrix(x,2,2), simplify = \"array\")\n",
    "   \n",
    "Each of these behaviors is of course contingent on our function returning vectors or matrices of the same length or dimension.\n",
    "\n",
    "* **Vapply** - When you want to use sapply but perhaps need to squeeze some more speed out of your code.\n",
    "\n",
    "For vapply, you basically give R an example of what sort of thing your function will return, which can save some time coercing returned values to fit in a single atomic vector.\n",
    "\n",
    "x <- list(a = 1, b = 1:3, c = 10:100)\n",
    "\n",
    "Note that since the advantage here is mainly speed, this\n",
    "example is only for illustration. We're telling R that\n",
    "everything returned by length() should be an integer of \n",
    "length 1.\n",
    "\n",
    "    vapply(x, FUN = length, FUN.VALUE = 0L) \n",
    "    a  b  c  \n",
    "    1  3 91\n",
    "\n",
    "* **Mapply** - For when you have several data structures (e.g. vectors, lists) and you want to apply a function to the 1st elements of each, and then the 2nd elements of each, etc., coercing the result to a vector/array as in sapply.\n",
    "\n",
    "This is multivariate in the sense that your function must accept multiple arguments.\n",
    "\n",
    "Sums the 1st elements, the 2nd elements, etc. \n",
    "\n",
    "    mapply(sum, 1:5, 1:5, 1:5) \n",
    "    [1]  3  6  9 12 15\n",
    "\n",
    "To do rep(1,4), rep(2,3), etc.\n",
    "    \n",
    "    mapply(rep, 1:4, 4:1)   \n",
    "    [[1]]\n",
    "    [1] 1 1 1 1\n",
    "\n",
    "    [[2]]\n",
    "    [1] 2 2 2\n",
    "\n",
    "    [[3]]\n",
    "    [1] 3 3\n",
    "\n",
    "    [[4]]\n",
    "    [1] 4\n",
    "\n",
    "* **Map** - A wrapper to mapply with SIMPLIFY = FALSE, so it is guaranteed to return a list.\n",
    "\n",
    "    Map(sum, 1:5, 1:5, 1:5)\n",
    "    [[1]]\n",
    "    [1] 3\n",
    "\n",
    "    [[2]]\n",
    "    [1] 6\n",
    "\n",
    "    [[3]]\n",
    "    [1] 9\n",
    "\n",
    "    [[4]]\n",
    "    [1] 12\n",
    "\n",
    "    [[5]]\n",
    "    [1] 15\n",
    "\n",
    "\n",
    "* **Rapply** - For when you want to apply a function to each element of a nested list structure, recursively.\n",
    "\n",
    "To give you some idea of how uncommon rapply is, I forgot about it when first posting this answer! Obviously, I'm sure many people use it, but YMMV. rapply is best illustrated with a user-defined function to apply:\n",
    "\n",
    "Append ! to string, otherwise increment\n",
    "\n",
    "    myFun <- function(x){\n",
    "        if (is.character(x)){\n",
    "        return(paste(x,\"!\",sep=\"\"))\n",
    "        }\n",
    "        else{\n",
    "        return(x + 1)\n",
    "        }\n",
    "    }\n",
    "\n",
    "A nested list structure\n",
    "    \n",
    "    l <- list(a = list(a1 = \"Boo\", b1 = 2, c1 = \"Eeek\"), \n",
    "          b = 3, c = \"Yikes\", \n",
    "          d = list(a2 = 1, b2 = list(a3 = \"Hey\", b3 = 5)))\n",
    "\n",
    "\n",
    "Result is named vector, coerced to character           \n",
    "    \n",
    "    rapply(l,myFun)\n",
    "\n",
    "Result is a nested list like l, with values altered\n",
    "\n",
    "    rapply(l, myFun, how = \"replace\")\n",
    "\n",
    "\n",
    "* **Tapply** - For when you want to apply a function to subsets of a vector and the subsets are defined by some other vector, usually a factor.\n",
    "\n",
    "The black sheep of the *apply family, of sorts. The help file's use of the phrase \"ragged array\" can be a bit confusing, but it is actually quite simple.\n",
    "\n",
    "A vector:\n",
    "\n",
    "    x <- 1:20\n",
    "    A factor (of the same length!) defining groups:\n",
    "\n",
    "    y <- factor(rep(letters[1:5], each = 4))\n",
    "    Add up the values in x within each subgroup defined by y:\n",
    "\n",
    "    tapply(x, y, sum)  \n",
    "    a  b  c  d  e  \n",
    "    10 26 42 58 74 \n",
    "\n",
    "More complex examples can be handled where the subgroups are defined by the unique combinations of a list of several factors. tapply is similar in spirit to the split-apply-combine functions that are common in R (aggregate, by, ave, ddply, etc.) Hence its black sheep status."
   ]
  },
  {
   "cell_type": "markdown",
   "metadata": {},
   "source": [
    "# <font color='Red'>Math Functions</font>\n",
    "\n",
    "We've discussed or used most of these built-in R math functions in lectures or exercises, but this is a good time to reiterate the importance of using these functions instead of writing your own."
   ]
  },
  {
   "cell_type": "markdown",
   "metadata": {},
   "source": [
    "    seq(): Create sequences\n",
    "    sort(): Sort a vector\n",
    "    rev(): Reverse elements in object\n",
    "    str(): Show the structure of an object\n",
    "    append(): Merge objects together (works on vectors and lists)\n",
    "    strsplit(): Split the elements of a string using a delimiter"
   ]
  },
  {
   "cell_type": "code",
   "execution_count": 71,
   "metadata": {},
   "outputs": [],
   "source": [
    "# Create a vector\n",
    "vec <- c(4,6,1,2,-1,0,3)"
   ]
  },
  {
   "cell_type": "code",
   "execution_count": 72,
   "metadata": {},
   "outputs": [
    {
     "data": {
      "text/html": [
       "<ol class=list-inline>\n",
       "\t<li>0</li>\n",
       "\t<li>3</li>\n",
       "\t<li>6</li>\n",
       "\t<li>9</li>\n",
       "\t<li>12</li>\n",
       "\t<li>15</li>\n",
       "\t<li>18</li>\n",
       "\t<li>21</li>\n",
       "\t<li>24</li>\n",
       "\t<li>27</li>\n",
       "\t<li>30</li>\n",
       "\t<li>33</li>\n",
       "\t<li>36</li>\n",
       "\t<li>39</li>\n",
       "\t<li>42</li>\n",
       "\t<li>45</li>\n",
       "\t<li>48</li>\n",
       "\t<li>51</li>\n",
       "\t<li>54</li>\n",
       "\t<li>57</li>\n",
       "\t<li>60</li>\n",
       "\t<li>63</li>\n",
       "\t<li>66</li>\n",
       "\t<li>69</li>\n",
       "\t<li>72</li>\n",
       "\t<li>75</li>\n",
       "\t<li>78</li>\n",
       "\t<li>81</li>\n",
       "\t<li>84</li>\n",
       "\t<li>87</li>\n",
       "\t<li>90</li>\n",
       "\t<li>93</li>\n",
       "\t<li>96</li>\n",
       "\t<li>99</li>\n",
       "</ol>\n"
      ],
      "text/latex": [
       "\\begin{enumerate*}\n",
       "\\item 0\n",
       "\\item 3\n",
       "\\item 6\n",
       "\\item 9\n",
       "\\item 12\n",
       "\\item 15\n",
       "\\item 18\n",
       "\\item 21\n",
       "\\item 24\n",
       "\\item 27\n",
       "\\item 30\n",
       "\\item 33\n",
       "\\item 36\n",
       "\\item 39\n",
       "\\item 42\n",
       "\\item 45\n",
       "\\item 48\n",
       "\\item 51\n",
       "\\item 54\n",
       "\\item 57\n",
       "\\item 60\n",
       "\\item 63\n",
       "\\item 66\n",
       "\\item 69\n",
       "\\item 72\n",
       "\\item 75\n",
       "\\item 78\n",
       "\\item 81\n",
       "\\item 84\n",
       "\\item 87\n",
       "\\item 90\n",
       "\\item 93\n",
       "\\item 96\n",
       "\\item 99\n",
       "\\end{enumerate*}\n"
      ],
      "text/markdown": [
       "1. 0\n",
       "2. 3\n",
       "3. 6\n",
       "4. 9\n",
       "5. 12\n",
       "6. 15\n",
       "7. 18\n",
       "8. 21\n",
       "9. 24\n",
       "10. 27\n",
       "11. 30\n",
       "12. 33\n",
       "13. 36\n",
       "14. 39\n",
       "15. 42\n",
       "16. 45\n",
       "17. 48\n",
       "18. 51\n",
       "19. 54\n",
       "20. 57\n",
       "21. 60\n",
       "22. 63\n",
       "23. 66\n",
       "24. 69\n",
       "25. 72\n",
       "26. 75\n",
       "27. 78\n",
       "28. 81\n",
       "29. 84\n",
       "30. 87\n",
       "31. 90\n",
       "32. 93\n",
       "33. 96\n",
       "34. 99\n",
       "\n",
       "\n"
      ],
      "text/plain": [
       " [1]  0  3  6  9 12 15 18 21 24 27 30 33 36 39 42 45 48 51 54 57 60 63 66 69 72\n",
       "[26] 75 78 81 84 87 90 93 96 99"
      ]
     },
     "metadata": {},
     "output_type": "display_data"
    }
   ],
   "source": [
    "# Creating sequences using start, end, and step\n",
    "seq(0, 100, by= 3)"
   ]
  },
  {
   "cell_type": "code",
   "execution_count": 73,
   "metadata": {},
   "outputs": [
    {
     "data": {
      "text/html": [
       "<ol class=list-inline>\n",
       "\t<li>-1</li>\n",
       "\t<li>0</li>\n",
       "\t<li>1</li>\n",
       "\t<li>2</li>\n",
       "\t<li>3</li>\n",
       "\t<li>4</li>\n",
       "\t<li>6</li>\n",
       "</ol>\n"
      ],
      "text/latex": [
       "\\begin{enumerate*}\n",
       "\\item -1\n",
       "\\item 0\n",
       "\\item 1\n",
       "\\item 2\n",
       "\\item 3\n",
       "\\item 4\n",
       "\\item 6\n",
       "\\end{enumerate*}\n"
      ],
      "text/markdown": [
       "1. -1\n",
       "2. 0\n",
       "3. 1\n",
       "4. 2\n",
       "5. 3\n",
       "6. 4\n",
       "7. 6\n",
       "\n",
       "\n"
      ],
      "text/plain": [
       "[1] -1  0  1  2  3  4  6"
      ]
     },
     "metadata": {},
     "output_type": "display_data"
    }
   ],
   "source": [
    "# Sort the elements of vec\n",
    "sort(vec)"
   ]
  },
  {
   "cell_type": "code",
   "execution_count": 74,
   "metadata": {},
   "outputs": [
    {
     "data": {
      "text/html": [
       "<ol class=list-inline>\n",
       "\t<li>6</li>\n",
       "\t<li>4</li>\n",
       "\t<li>3</li>\n",
       "\t<li>2</li>\n",
       "\t<li>1</li>\n",
       "\t<li>0</li>\n",
       "\t<li>-1</li>\n",
       "</ol>\n"
      ],
      "text/latex": [
       "\\begin{enumerate*}\n",
       "\\item 6\n",
       "\\item 4\n",
       "\\item 3\n",
       "\\item 2\n",
       "\\item 1\n",
       "\\item 0\n",
       "\\item -1\n",
       "\\end{enumerate*}\n"
      ],
      "text/markdown": [
       "1. 6\n",
       "2. 4\n",
       "3. 3\n",
       "4. 2\n",
       "5. 1\n",
       "6. 0\n",
       "7. -1\n",
       "\n",
       "\n"
      ],
      "text/plain": [
       "[1]  6  4  3  2  1  0 -1"
      ]
     },
     "metadata": {},
     "output_type": "display_data"
    }
   ],
   "source": [
    "# Reverse the order of a sorted vec\n",
    "rev(sort(vec))"
   ]
  },
  {
   "cell_type": "code",
   "execution_count": 76,
   "metadata": {},
   "outputs": [
    {
     "name": "stdout",
     "output_type": "stream",
     "text": [
      " num [1:7] 4 6 1 2 -1 0 3\n"
     ]
    }
   ],
   "source": [
    "# Check the structure of vec\n",
    "str(vec)"
   ]
  },
  {
   "cell_type": "code",
   "execution_count": 79,
   "metadata": {},
   "outputs": [
    {
     "data": {
      "text/html": [
       "<ol class=list-inline>\n",
       "\t<li>-1</li>\n",
       "\t<li>0</li>\n",
       "\t<li>1</li>\n",
       "\t<li>2</li>\n",
       "\t<li>3</li>\n",
       "\t<li>4</li>\n",
       "\t<li>6</li>\n",
       "\t<li>9</li>\n",
       "</ol>\n"
      ],
      "text/latex": [
       "\\begin{enumerate*}\n",
       "\\item -1\n",
       "\\item 0\n",
       "\\item 1\n",
       "\\item 2\n",
       "\\item 3\n",
       "\\item 4\n",
       "\\item 6\n",
       "\\item 9\n",
       "\\end{enumerate*}\n"
      ],
      "text/markdown": [
       "1. -1\n",
       "2. 0\n",
       "3. 1\n",
       "4. 2\n",
       "5. 3\n",
       "6. 4\n",
       "7. 6\n",
       "8. 9\n",
       "\n",
       "\n"
      ],
      "text/plain": [
       "[1] -1  0  1  2  3  4  6  9"
      ]
     },
     "metadata": {},
     "output_type": "display_data"
    }
   ],
   "source": [
    "# Append elements on to a sorted vec\n",
    "append(sort(vec), 9)"
   ]
  },
  {
   "cell_type": "code",
   "execution_count": 106,
   "metadata": {},
   "outputs": [],
   "source": [
    "# Split string elements to form a vector\n",
    "my_string <- 'Bailey-Wynne-Bailey II-Gregory-Emery'\n",
    "#new_vec <- strsplit(my_string,\"-\")\n",
    "new_vec <- unlist(strsplit(my_string,\"-\"))"
   ]
  },
  {
   "cell_type": "code",
   "execution_count": 173,
   "metadata": {},
   "outputs": [
    {
     "data": {
      "text/html": [
       "'Bailey'"
      ],
      "text/latex": [
       "'Bailey'"
      ],
      "text/markdown": [
       "'Bailey'"
      ],
      "text/plain": [
       "[1] \"Bailey\""
      ]
     },
     "metadata": {},
     "output_type": "display_data"
    },
    {
     "data": {
      "text/html": [
       "<ol>\n",
       "\t<li>'Bailey'</li>\n",
       "</ol>\n"
      ],
      "text/latex": [
       "\\begin{enumerate}\n",
       "\\item 'Bailey'\n",
       "\\end{enumerate}\n"
      ],
      "text/markdown": [
       "1. 'Bailey'\n",
       "\n",
       "\n"
      ],
      "text/plain": [
       "[[1]]\n",
       "[1] \"Bailey\"\n"
      ]
     },
     "metadata": {},
     "output_type": "display_data"
    }
   ],
   "source": [
    "# Pull out elements of new_vec\n",
    "new_vec[1]\n",
    "# To convert to a list\n",
    "as.list(new_vec)[1]"
   ]
  },
  {
   "cell_type": "markdown",
   "metadata": {},
   "source": [
    "# <font color='Red'>Math Functions</font>\n",
    "\n",
    "We've discussed or used most of these built-in R math functions in lectures or exercises, but this is a good time to reiterate the importance of using these functions instead of writing your own."
   ]
  },
  {
   "cell_type": "markdown",
   "metadata": {},
   "source": [
    "    abs(): computes the absolute value.\n",
    "    sum(): returns the sum of all the values present in the input.\n",
    "    mean(): computes the arithmetic mean.\n",
    "    round(): rounds values (additional arguments to nearest)"
   ]
  },
  {
   "cell_type": "code",
   "execution_count": 63,
   "metadata": {},
   "outputs": [],
   "source": [
    "# Create a vector\n",
    "vec <- c(-1,0,1,2,3,4,6)"
   ]
  },
  {
   "cell_type": "code",
   "execution_count": 64,
   "metadata": {},
   "outputs": [
    {
     "data": {
      "text/html": [
       "2"
      ],
      "text/latex": [
       "2"
      ],
      "text/markdown": [
       "2"
      ],
      "text/plain": [
       "[1] 2"
      ]
     },
     "metadata": {},
     "output_type": "display_data"
    }
   ],
   "source": [
    "# Using abs to find the abolute value of a vector\n",
    "abs(-2)"
   ]
  },
  {
   "cell_type": "code",
   "execution_count": 65,
   "metadata": {},
   "outputs": [
    {
     "data": {
      "text/html": [
       "15"
      ],
      "text/latex": [
       "15"
      ],
      "text/markdown": [
       "15"
      ],
      "text/plain": [
       "[1] 15"
      ]
     },
     "metadata": {},
     "output_type": "display_data"
    }
   ],
   "source": [
    "# Sum of vec\n",
    "sum(vec)"
   ]
  },
  {
   "cell_type": "code",
   "execution_count": 66,
   "metadata": {},
   "outputs": [
    {
     "data": {
      "text/html": [
       "2.14285714285714"
      ],
      "text/latex": [
       "2.14285714285714"
      ],
      "text/markdown": [
       "2.14285714285714"
      ],
      "text/plain": [
       "[1] 2.142857"
      ]
     },
     "metadata": {},
     "output_type": "display_data"
    }
   ],
   "source": [
    "# Mean of vec\n",
    "mean(vec)"
   ]
  },
  {
   "cell_type": "code",
   "execution_count": 67,
   "metadata": {},
   "outputs": [
    {
     "data": {
      "text/html": [
       "2.14"
      ],
      "text/latex": [
       "2.14"
      ],
      "text/markdown": [
       "2.14"
      ],
      "text/plain": [
       "[1] 2.14"
      ]
     },
     "metadata": {},
     "output_type": "display_data"
    }
   ],
   "source": [
    "# Round the mean of vec to two decimal places\n",
    "round(mean(vec), 2)"
   ]
  },
  {
   "cell_type": "markdown",
   "metadata": {},
   "source": [
    "# <font color='Red'>Regular Expressions</font>\n",
    "\n",
    "Regular expressions is a general term which covers the idea of pattern searching, typically in a string (or a vector of strings).\n",
    "\n",
    "For now, we'll learn two useful functions for regular expressions and pattern searching:\n",
    "\n",
    "* grepl(), which returns a logical indicating if the pattern was found in a string or vector\n",
    "\n",
    "* gregexr(), which returns the index of the pattern within a string\n",
    "\n",
    "* grep(), which returns a vector of index locations of matching pattern instances of a vector\n",
    "\n",
    "* sub(), which replaces the first instance of the pattern with the replacement string in a string\n",
    "\n",
    "* gsub(), which replaces all instances of the pattern with the replacement string in a string\n",
    "\n",
    "For both of these functions you'll pass in a pattern and then the object you want to search. \n",
    "\n",
    "Let's see some quick examples:"
   ]
  },
  {
   "cell_type": "markdown",
   "metadata": {},
   "source": [
    "## Match Pattern In A String"
   ]
  },
  {
   "cell_type": "code",
   "execution_count": 167,
   "metadata": {},
   "outputs": [],
   "source": [
    "base_pair = c('A','C','G','T')\n",
    "sequence <- paste(sample(base_pair, 100, replace=TRUE), collapse=\"\")"
   ]
  },
  {
   "cell_type": "code",
   "execution_count": 134,
   "metadata": {},
   "outputs": [
    {
     "data": {
      "text/html": [
       "TRUE"
      ],
      "text/latex": [
       "TRUE"
      ],
      "text/markdown": [
       "TRUE"
      ],
      "text/plain": [
       "[1] TRUE"
      ]
     },
     "metadata": {},
     "output_type": "display_data"
    }
   ],
   "source": [
    "# Determine if a pattern is within the sequence - Use grepl(pattern, x)\n",
    "grepl(toupper('gtg'), sequence)"
   ]
  },
  {
   "cell_type": "code",
   "execution_count": 137,
   "metadata": {},
   "outputs": [
    {
     "data": {
      "text/html": [
       "TRUE"
      ],
      "text/latex": [
       "TRUE"
      ],
      "text/markdown": [
       "TRUE"
      ],
      "text/plain": [
       "[1] TRUE"
      ]
     },
     "metadata": {},
     "output_type": "display_data"
    }
   ],
   "source": [
    "grepl(toupper('cat'), sequence)"
   ]
  },
  {
   "cell_type": "code",
   "execution_count": 140,
   "metadata": {},
   "outputs": [
    {
     "data": {
      "text/html": [
       "FALSE"
      ],
      "text/latex": [
       "FALSE"
      ],
      "text/markdown": [
       "FALSE"
      ],
      "text/plain": [
       "[1] FALSE"
      ]
     },
     "metadata": {},
     "output_type": "display_data"
    }
   ],
   "source": [
    "grepl(toupper('tgtcca'), sequence)"
   ]
  },
  {
   "cell_type": "code",
   "execution_count": 152,
   "metadata": {},
   "outputs": [
    {
     "data": {
      "text/html": [
       "'GAGCCAGCGGGCCTCAGTTACACACATTCCTGTGTATTTCGGCGCACATGAGTTCGCATCAGGCGGGGGCATTTGCTAACATGCTGAATCTTGAGAACCA'"
      ],
      "text/latex": [
       "'GAGCCAGCGGGCCTCAGTTACACACATTCCTGTGTATTTCGGCGCACATGAGTTCGCATCAGGCGGGGGCATTTGCTAACATGCTGAATCTTGAGAACCA'"
      ],
      "text/markdown": [
       "'GAGCCAGCGGGCCTCAGTTACACACATTCCTGTGTATTTCGGCGCACATGAGTTCGCATCAGGCGGGGGCATTTGCTAACATGCTGAATCTTGAGAACCA'"
      ],
      "text/plain": [
       "[1] \"GAGCCAGCGGGCCTCAGTTACACACATTCCTGTGTATTTCGGCGCACATGAGTTCGCATCAGGCGGGGGCATTTGCTAACATGCTGAATCTTGAGAACCA\""
      ]
     },
     "metadata": {},
     "output_type": "display_data"
    }
   ],
   "source": [
    "sequence"
   ]
  },
  {
   "cell_type": "markdown",
   "metadata": {},
   "source": [
    "## Find Index In A String"
   ]
  },
  {
   "cell_type": "code",
   "execution_count": 153,
   "metadata": {},
   "outputs": [
    {
     "data": {
      "text/html": [
       "<ol>\n",
       "\t<li><ol class=list-inline>\n",
       "\t<li>5</li>\n",
       "\t<li>15</li>\n",
       "\t<li>60</li>\n",
       "</ol>\n",
       "</li>\n",
       "</ol>\n"
      ],
      "text/latex": [
       "\\begin{enumerate}\n",
       "\\item \\begin{enumerate*}\n",
       "\\item 5\n",
       "\\item 15\n",
       "\\item 60\n",
       "\\end{enumerate*}\n",
       "\n",
       "\\end{enumerate}\n"
      ],
      "text/markdown": [
       "1. 1. 5\n",
       "2. 15\n",
       "3. 60\n",
       "\n",
       "\n",
       "\n",
       "\n",
       "\n"
      ],
      "text/plain": [
       "[[1]]\n",
       "[1]  5 15 60\n",
       "attr(,\"match.length\")\n",
       "[1] 3 3 3\n",
       "attr(,\"index.type\")\n",
       "[1] \"chars\"\n",
       "attr(,\"useBytes\")\n",
       "[1] TRUE\n"
      ]
     },
     "metadata": {},
     "output_type": "display_data"
    }
   ],
   "source": [
    "# Use gregexpr to index within sequence\n",
    "gregexpr(toupper('cag'), sequence)"
   ]
  },
  {
   "cell_type": "markdown",
   "metadata": {},
   "source": [
    "## Index Vector Elements"
   ]
  },
  {
   "cell_type": "code",
   "execution_count": 164,
   "metadata": {},
   "outputs": [],
   "source": [
    "base_pair = c('A','C','G','T')\n",
    "sequence <- sample(base_pair, 100, replace=TRUE)"
   ]
  },
  {
   "cell_type": "code",
   "execution_count": 148,
   "metadata": {},
   "outputs": [
    {
     "data": {
      "text/html": [
       "<ol class=list-inline>\n",
       "\t<li>1</li>\n",
       "\t<li>3</li>\n",
       "\t<li>4</li>\n",
       "\t<li>8</li>\n",
       "\t<li>9</li>\n",
       "\t<li>11</li>\n",
       "\t<li>17</li>\n",
       "\t<li>19</li>\n",
       "\t<li>24</li>\n",
       "\t<li>29</li>\n",
       "\t<li>30</li>\n",
       "\t<li>31</li>\n",
       "\t<li>34</li>\n",
       "\t<li>38</li>\n",
       "\t<li>44</li>\n",
       "\t<li>47</li>\n",
       "\t<li>49</li>\n",
       "\t<li>57</li>\n",
       "\t<li>62</li>\n",
       "\t<li>64</li>\n",
       "\t<li>69</li>\n",
       "\t<li>73</li>\n",
       "\t<li>75</li>\n",
       "\t<li>76</li>\n",
       "\t<li>82</li>\n",
       "\t<li>90</li>\n",
       "\t<li>92</li>\n",
       "\t<li>96</li>\n",
       "\t<li>97</li>\n",
       "\t<li>99</li>\n",
       "</ol>\n"
      ],
      "text/latex": [
       "\\begin{enumerate*}\n",
       "\\item 1\n",
       "\\item 3\n",
       "\\item 4\n",
       "\\item 8\n",
       "\\item 9\n",
       "\\item 11\n",
       "\\item 17\n",
       "\\item 19\n",
       "\\item 24\n",
       "\\item 29\n",
       "\\item 30\n",
       "\\item 31\n",
       "\\item 34\n",
       "\\item 38\n",
       "\\item 44\n",
       "\\item 47\n",
       "\\item 49\n",
       "\\item 57\n",
       "\\item 62\n",
       "\\item 64\n",
       "\\item 69\n",
       "\\item 73\n",
       "\\item 75\n",
       "\\item 76\n",
       "\\item 82\n",
       "\\item 90\n",
       "\\item 92\n",
       "\\item 96\n",
       "\\item 97\n",
       "\\item 99\n",
       "\\end{enumerate*}\n"
      ],
      "text/markdown": [
       "1. 1\n",
       "2. 3\n",
       "3. 4\n",
       "4. 8\n",
       "5. 9\n",
       "6. 11\n",
       "7. 17\n",
       "8. 19\n",
       "9. 24\n",
       "10. 29\n",
       "11. 30\n",
       "12. 31\n",
       "13. 34\n",
       "14. 38\n",
       "15. 44\n",
       "16. 47\n",
       "17. 49\n",
       "18. 57\n",
       "19. 62\n",
       "20. 64\n",
       "21. 69\n",
       "22. 73\n",
       "23. 75\n",
       "24. 76\n",
       "25. 82\n",
       "26. 90\n",
       "27. 92\n",
       "28. 96\n",
       "29. 97\n",
       "30. 99\n",
       "\n",
       "\n"
      ],
      "text/plain": [
       " [1]  1  3  4  8  9 11 17 19 24 29 30 31 34 38 44 47 49 57 62 64 69 73 75 76 82\n",
       "[26] 90 92 96 97 99"
      ]
     },
     "metadata": {},
     "output_type": "display_data"
    }
   ],
   "source": [
    "# Determine index of a patter within the sequence - Use grep(pattern, x)\n",
    "grep('G', sequence)"
   ]
  },
  {
   "cell_type": "markdown",
   "metadata": {},
   "source": [
    "## Sub vs Gsub"
   ]
  },
  {
   "cell_type": "code",
   "execution_count": 170,
   "metadata": {},
   "outputs": [],
   "source": [
    "sequence <- c('ATG','TAG','TTC','CTT','GTG','GAT','GCC')"
   ]
  },
  {
   "cell_type": "code",
   "execution_count": 171,
   "metadata": {},
   "outputs": [
    {
     "data": {
      "text/html": [
       "<ol class=list-inline>\n",
       "\t<li>'AUG'</li>\n",
       "\t<li>'UAG'</li>\n",
       "\t<li>'UTC'</li>\n",
       "\t<li>'CUT'</li>\n",
       "\t<li>'GUG'</li>\n",
       "\t<li>'GAU'</li>\n",
       "\t<li>'GCC'</li>\n",
       "</ol>\n"
      ],
      "text/latex": [
       "\\begin{enumerate*}\n",
       "\\item 'AUG'\n",
       "\\item 'UAG'\n",
       "\\item 'UTC'\n",
       "\\item 'CUT'\n",
       "\\item 'GUG'\n",
       "\\item 'GAU'\n",
       "\\item 'GCC'\n",
       "\\end{enumerate*}\n"
      ],
      "text/markdown": [
       "1. 'AUG'\n",
       "2. 'UAG'\n",
       "3. 'UTC'\n",
       "4. 'CUT'\n",
       "5. 'GUG'\n",
       "6. 'GAU'\n",
       "7. 'GCC'\n",
       "\n",
       "\n"
      ],
      "text/plain": [
       "[1] \"AUG\" \"UAG\" \"UTC\" \"CUT\" \"GUG\" \"GAU\" \"GCC\""
      ]
     },
     "metadata": {},
     "output_type": "display_data"
    }
   ],
   "source": [
    "sub('T', 'U', sequence)"
   ]
  },
  {
   "cell_type": "code",
   "execution_count": 172,
   "metadata": {},
   "outputs": [
    {
     "data": {
      "text/html": [
       "<ol class=list-inline>\n",
       "\t<li>'AUG'</li>\n",
       "\t<li>'UAG'</li>\n",
       "\t<li>'UUC'</li>\n",
       "\t<li>'CUU'</li>\n",
       "\t<li>'GUG'</li>\n",
       "\t<li>'GAU'</li>\n",
       "\t<li>'GCC'</li>\n",
       "</ol>\n"
      ],
      "text/latex": [
       "\\begin{enumerate*}\n",
       "\\item 'AUG'\n",
       "\\item 'UAG'\n",
       "\\item 'UUC'\n",
       "\\item 'CUU'\n",
       "\\item 'GUG'\n",
       "\\item 'GAU'\n",
       "\\item 'GCC'\n",
       "\\end{enumerate*}\n"
      ],
      "text/markdown": [
       "1. 'AUG'\n",
       "2. 'UAG'\n",
       "3. 'UUC'\n",
       "4. 'CUU'\n",
       "5. 'GUG'\n",
       "6. 'GAU'\n",
       "7. 'GCC'\n",
       "\n",
       "\n"
      ],
      "text/plain": [
       "[1] \"AUG\" \"UAG\" \"UUC\" \"CUU\" \"GUG\" \"GAU\" \"GCC\""
      ]
     },
     "metadata": {},
     "output_type": "display_data"
    }
   ],
   "source": [
    "gsub('T', 'U', sequence)"
   ]
  }
 ],
 "metadata": {
  "kernelspec": {
   "display_name": "R",
   "language": "R",
   "name": "ir"
  },
  "language_info": {
   "codemirror_mode": "r",
   "file_extension": ".r",
   "mimetype": "text/x-r-source",
   "name": "R",
   "pygments_lexer": "r",
   "version": "3.6.1"
  }
 },
 "nbformat": 4,
 "nbformat_minor": 2
}
