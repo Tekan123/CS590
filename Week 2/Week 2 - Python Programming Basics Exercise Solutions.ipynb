{
 "cells": [
  {
   "cell_type": "markdown",
   "metadata": {},
   "source": [
    "![](Logo.png)"
   ]
  },
  {
   "cell_type": "markdown",
   "metadata": {},
   "source": [
    "# <font color='red'>Introduction to Python Programming: Basics</font>"
   ]
  },
  {
   "cell_type": "markdown",
   "metadata": {},
   "source": [
    "Based on the Python programming basics lecture topics:\n",
    " * Basic Data Types\n",
    " * Basic Arithmatic\n",
    " * Variables\n",
    " * Lists, Dictionaries, Tuples and Sets\n",
    " * Comparison Operators\n",
    " * Selection, Indexing and Slicing"
   ]
  },
  {
   "cell_type": "markdown",
   "metadata": {},
   "source": [
    "This exercise should be straightforward and is designed to be a review of the lecture material. Don't expect something very challenging yet. Simply just want to establish a baseline for everyone. Exercises later on this semester will progressively get more challenging (but fun) so it's important to understand these concepts now."
   ]
  },
  {
   "cell_type": "markdown",
   "metadata": {},
   "source": [
    "## Solve the following using Python\n",
    "\n",
    "**What is six to the power of three?**"
   ]
  },
  {
   "cell_type": "code",
   "execution_count": null,
   "metadata": {},
   "outputs": [],
   "source": [
    "6**3"
   ]
  },
  {
   "cell_type": "markdown",
   "metadata": {},
   "source": [
    "216"
   ]
  },
  {
   "cell_type": "markdown",
   "metadata": {},
   "source": [
    "**Create a list called peanut_weight with the following data points:**\n",
    "\n",
    "89.4, 78.2, 91.4, 95.2, 105.5"
   ]
  },
  {
   "cell_type": "code",
   "execution_count": null,
   "metadata": {
    "scrolled": true
   },
   "outputs": [],
   "source": [
    "peanut_weight = [89.4, 78.2, 91.4, 95.2, 105.5]\n",
    "peanut_weight"
   ]
  },
  {
   "cell_type": "markdown",
   "metadata": {},
   "source": [
    "[89.4, 78.2, 91.4, 95.2, 105.5]"
   ]
  },
  {
   "cell_type": "markdown",
   "metadata": {},
   "source": [
    "**Print the first, third and fifth peanut weights in the peanut_weight list**"
   ]
  },
  {
   "cell_type": "code",
   "execution_count": null,
   "metadata": {},
   "outputs": [],
   "source": [
    "peanut_weight[0::2]"
   ]
  },
  {
   "cell_type": "markdown",
   "metadata": {},
   "source": [
    "[89.4, 91.4, 105.5]"
   ]
  },
  {
   "cell_type": "markdown",
   "metadata": {},
   "source": [
    "**Create a dictionary using the following names in order of the values that appear in peanut_weight and print the items in the dictionary**\n",
    "\n",
    "Sullivan, Bailey, Bailey II, Emery, Wynne"
   ]
  },
  {
   "cell_type": "code",
   "execution_count": null,
   "metadata": {},
   "outputs": [],
   "source": [
    "my_dict = {'Sullivan':89.4,'Bailey':78.2,'Bailey II':91.4,'Emery':95.2,'Wynne':105.5}\n",
    "my_dict.items()"
   ]
  },
  {
   "cell_type": "code",
   "execution_count": null,
   "metadata": {},
   "outputs": [],
   "source": [
    "cultivars = ['Sullivar','Bailey','Bailey II','Emery','Wynne']\n",
    "weights = [89.4, 78.2, 91.4, 95.2, 105.5]\n",
    "\n",
    "#Using zip()\n",
    "zip_list = zip(cultivars, weights)\n",
    "my_dict = dict(zip_list)"
   ]
  },
  {
   "cell_type": "markdown",
   "metadata": {},
   "source": [
    "dict_items([('Sullivan', 89.4), ('Bailey', 78.2), ('Bailey II', 91.4), ('Emery', 95.2), ('Wynne', 105.5)])"
   ]
  },
  {
   "cell_type": "markdown",
   "metadata": {},
   "source": [
    "**Which peanut cultivar has the largest seed weight?** Hint: Use the built-in Python function **max()**"
   ]
  },
  {
   "cell_type": "code",
   "execution_count": null,
   "metadata": {},
   "outputs": [],
   "source": [
    "max(my_dict.items())"
   ]
  },
  {
   "cell_type": "markdown",
   "metadata": {},
   "source": [
    "('Wynne', 105.5)"
   ]
  },
  {
   "cell_type": "markdown",
   "metadata": {},
   "source": [
    "**Print the statement below using the following variables**\n",
    "\n",
    "Cultivar = 'Wynne'\n",
    "<br>Size = 105.5\n"
   ]
  },
  {
   "cell_type": "code",
   "execution_count": null,
   "metadata": {},
   "outputs": [],
   "source": [
    "Cultivar = 'Wynne'\n",
    "Size = 105.5\n",
    "print('%s is the largest cultivar weighing %s grams per 100 seeds'%(Cultivar, Size))\n",
    "#print('{} is the largest cultivar weighing {} grams per 100 seeds'.format(Cultivar, Size))"
   ]
  },
  {
   "cell_type": "markdown",
   "metadata": {},
   "source": [
    "Wynne is the largest cultivar weighing 105.5 grams per 100 seeds"
   ]
  }
 ],
 "metadata": {
  "kernelspec": {
   "display_name": "Python 3",
   "language": "python",
   "name": "python3"
  },
  "language_info": {
   "codemirror_mode": {
    "name": "ipython",
    "version": 3
   },
   "file_extension": ".py",
   "mimetype": "text/x-python",
   "name": "python",
   "nbconvert_exporter": "python",
   "pygments_lexer": "ipython3",
   "version": "3.7.3"
  }
 },
 "nbformat": 4,
 "nbformat_minor": 2
}
