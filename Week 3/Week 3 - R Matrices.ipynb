{
 "cells": [
  {
   "cell_type": "markdown",
   "metadata": {},
   "source": [
    "![](Logo.png)"
   ]
  },
  {
   "cell_type": "markdown",
   "metadata": {},
   "source": [
    "# <font color='red'> Introduction to R Matrices</font>\n",
    "> ### Creating a matrix\n",
    "> ### Matrix Arithmetic\n",
    "> ### Matrix Operations\n",
    "> ### Matrix Selection and Indexing\n",
    "> ### Factor and Categorical Matrices"
   ]
  },
  {
   "cell_type": "markdown",
   "metadata": {},
   "source": [
    "# <font color='red'>Creating a matrix</font>\n",
    "\n",
    "We've learned in the previous week about vectors which allow us to store indexed elements. A matrix will allow us to have a 2-dimensional data structure which contains elements consisting of the same data type.\n",
    "\n",
    "Before we discuss matrices, there is a quick way to efficiently create sequential numeric vectors. You can use the colon **\":\"** notation from slicing to create a range of sequential vectors"
   ]
  },
  {
   "cell_type": "code",
   "execution_count": null,
   "metadata": {},
   "outputs": [],
   "source": [
    "# Range of sequential numeric values\n",
    "1:10"
   ]
  },
  {
   "cell_type": "code",
   "execution_count": null,
   "metadata": {},
   "outputs": [],
   "source": [
    "# Assign sequential numeric range to a vector\n",
    "v <- 1:10\n",
    "v"
   ]
  },
  {
   "cell_type": "markdown",
   "metadata": {},
   "source": [
    "Now, to create a matrix in R, you use the Built-in R Function **matrix()**. We can pass a vector into the matrix."
   ]
  },
  {
   "cell_type": "code",
   "execution_count": null,
   "metadata": {},
   "outputs": [],
   "source": [
    "# Pass the vector (v) to convert to a matrix\n",
    "matrix(v)"
   ]
  },
  {
   "cell_type": "markdown",
   "metadata": {},
   "source": [
    "NOTE: The output shows the dimensions of the matrix. Here, v is displayed as a two-dimensional matrix which is 10 rows by 1 column. What if we want to specify the number of rows? We can pass the parameter/argument into the matrix function called **nrow** which stands for the number of rows."
   ]
  },
  {
   "cell_type": "code",
   "execution_count": null,
   "metadata": {},
   "outputs": [],
   "source": [
    "matrix(v, nrow=2)"
   ]
  },
  {
   "cell_type": "markdown",
   "metadata": {},
   "source": [
    "NOTE: Now the matrix displayed has 2 rows by 5 columns. The nrow argument allows you to define the number of rows for the matrix. But how do we decide the fill order? We could have filled columns first (example above) or filled ou the rows first in sequential order. The **byrow** argument allows you to specify whether or not you want to fill out the matrix by rows or columns."
   ]
  },
  {
   "cell_type": "code",
   "execution_count": null,
   "metadata": {},
   "outputs": [],
   "source": [
    "matrix(1:12, byrow=FALSE, nrow=4)"
   ]
  },
  {
   "cell_type": "code",
   "execution_count": null,
   "metadata": {},
   "outputs": [],
   "source": [
    "matrix(1:12, byrow=TRUE, nrow=4)"
   ]
  },
  {
   "cell_type": "markdown",
   "metadata": {},
   "source": [
    "## Creating Matrices from Vectors\n",
    "\n",
    "Vectors that have been defined previously can be ordered into a matrix."
   ]
  },
  {
   "cell_type": "code",
   "execution_count": null,
   "metadata": {},
   "outputs": [],
   "source": [
    "# Dry weight measurements\n",
    "Lewiston <- c(22.4,21.3,20.6,18.1,16.2)\n",
    "Rocky.Mount <- c(25.6,22.3,20.4,17.9,15.2)\n",
    "Whiteville <- c(28.4,25.6,23.5,22.1,19.4)"
   ]
  },
  {
   "cell_type": "code",
   "execution_count": null,
   "metadata": {},
   "outputs": [],
   "source": [
    "weights <- c(Lewiston,Rocky.Mount,Whiteville)"
   ]
  },
  {
   "cell_type": "code",
   "execution_count": null,
   "metadata": {},
   "outputs": [],
   "source": [
    "weights.matrix <-matrix(weights, byrow=TRUE, nrow=3)"
   ]
  },
  {
   "cell_type": "code",
   "execution_count": null,
   "metadata": {},
   "outputs": [],
   "source": [
    "weights.matrix"
   ]
  },
  {
   "cell_type": "markdown",
   "metadata": {},
   "source": [
    "## Naming Matrices\n",
    "\n",
    "Now that the weights.matrix has been created, it would be nice to name the rows and columns for reference. We can do this similarly to the Built-in R Function for vectors **names()**, but in this case we need to define the Built-in R Functions **colnames()** and **rownames()** for matrices. "
   ]
  },
  {
   "cell_type": "code",
   "execution_count": null,
   "metadata": {},
   "outputs": [],
   "source": [
    "days <- c('Mon','Tue','Wed','Thu','Fri')\n",
    "loc.names <- c('Lewiston','Rocky Mount','Whiteville')"
   ]
  },
  {
   "cell_type": "code",
   "execution_count": null,
   "metadata": {},
   "outputs": [],
   "source": [
    "colnames(weights.matrix) <- days\n",
    "rownames(weights.matrix) <- loc.names"
   ]
  },
  {
   "cell_type": "code",
   "execution_count": null,
   "metadata": {},
   "outputs": [],
   "source": [
    "weights.matrix"
   ]
  },
  {
   "cell_type": "markdown",
   "metadata": {},
   "source": [
    "NOTE: This should start to look similar to working with a spreadsheet. All of the columns and rows have names (or indexes) in which to reference. These can be used to pull out useful information. "
   ]
  },
  {
   "cell_type": "markdown",
   "metadata": {},
   "source": [
    "# <font color='red'>Matrix Arithmetic</font>\n",
    "\n",
    "Similar to vectors, mathematical operations can be performed on an element by element basis on a matrix with a single scalar (numeric value)."
   ]
  },
  {
   "cell_type": "code",
   "execution_count": null,
   "metadata": {},
   "outputs": [],
   "source": [
    "# A matrix with 5 rows and 10 columns\n",
    "mat <- matrix(1:50, byrow=TRUE, nrow=5)\n",
    "mat"
   ]
  },
  {
   "cell_type": "code",
   "execution_count": null,
   "metadata": {},
   "outputs": [],
   "source": [
    "# Multiplication\n",
    "2*mat"
   ]
  },
  {
   "cell_type": "code",
   "execution_count": null,
   "metadata": {},
   "outputs": [],
   "source": [
    "# Division\n",
    "1/mat"
   ]
  },
  {
   "cell_type": "code",
   "execution_count": null,
   "metadata": {},
   "outputs": [],
   "source": [
    "# Division (reciprocal)\n",
    "mat/2"
   ]
  },
  {
   "cell_type": "code",
   "execution_count": null,
   "metadata": {},
   "outputs": [],
   "source": [
    "# Exponent\n",
    "mat ^ 2"
   ]
  },
  {
   "cell_type": "code",
   "execution_count": null,
   "metadata": {},
   "outputs": [],
   "source": [
    "## Comparison Operators with Matrices\n",
    "mat > 15"
   ]
  },
  {
   "cell_type": "markdown",
   "metadata": {},
   "source": [
    "NOTE: The comparison operators (==, !=, <, >, <=, >=)"
   ]
  },
  {
   "cell_type": "markdown",
   "metadata": {},
   "source": [
    "## Matrix Arithmetic with Multiple Matrices\n",
    "\n",
    "Using basic arithmentic using multple matrices"
   ]
  },
  {
   "cell_type": "code",
   "execution_count": null,
   "metadata": {},
   "outputs": [],
   "source": [
    "mat + mat"
   ]
  },
  {
   "cell_type": "code",
   "execution_count": null,
   "metadata": {},
   "outputs": [],
   "source": [
    "mat / mat"
   ]
  },
  {
   "cell_type": "code",
   "execution_count": null,
   "metadata": {},
   "outputs": [],
   "source": [
    "mat ^ mat"
   ]
  },
  {
   "cell_type": "code",
   "execution_count": null,
   "metadata": {},
   "outputs": [],
   "source": [
    "mat*mat"
   ]
  },
  {
   "cell_type": "markdown",
   "metadata": {},
   "source": [
    "## Matrix Multiplication\n",
    "\n",
    "A quick note on matrix multiplication. You can perform arithmetic multiplication on an element by element basis using the **\"*\"** sign in R. You should note that this is **NOT** the same as Matrix Multiplication. If you are familiar with the mathematics behind this tipe and want to use R to perfrom true matrix multiplication, use the **\"%*%\"** sign."
   ]
  },
  {
   "cell_type": "code",
   "execution_count": null,
   "metadata": {},
   "outputs": [],
   "source": [
    "mat2 <- matrix(1:9, nrow=3)"
   ]
  },
  {
   "cell_type": "code",
   "execution_count": null,
   "metadata": {},
   "outputs": [],
   "source": [
    "mat2"
   ]
  },
  {
   "cell_type": "code",
   "execution_count": null,
   "metadata": {},
   "outputs": [],
   "source": [
    "mat2 * mat2"
   ]
  },
  {
   "cell_type": "code",
   "execution_count": null,
   "metadata": {},
   "outputs": [],
   "source": [
    "mat2 %*% mat2"
   ]
  },
  {
   "cell_type": "markdown",
   "metadata": {},
   "source": [
    "NOTE: See the differences between the two outputs? For more on matrix calculations (mathematical) view [Quick R Stats Reference](https://www.statmethods.net/advstats/matrix.html)"
   ]
  },
  {
   "cell_type": "markdown",
   "metadata": {},
   "source": [
    "# <font color='red'>Matrix Operations</font>\n",
    "\n",
    "Now that we have gone through the basics of creating matrices, let's learn how to use functions and perform operations on them."
   ]
  },
  {
   "cell_type": "code",
   "execution_count": null,
   "metadata": {},
   "outputs": [],
   "source": [
    "weights.matrix"
   ]
  },
  {
   "cell_type": "markdown",
   "metadata": {},
   "source": [
    "Functions can be performed across columns and rows\n",
    "<br>Using **Sums** and **Means**"
   ]
  },
  {
   "cell_type": "code",
   "execution_count": null,
   "metadata": {},
   "outputs": [],
   "source": [
    "# Across columns using colSums()\n",
    "\n",
    "colSums(weights.matrix)"
   ]
  },
  {
   "cell_type": "code",
   "execution_count": null,
   "metadata": {},
   "outputs": [],
   "source": [
    "# Across rows using rowSums()\n",
    "\n",
    "rowSums(weights.matrix)"
   ]
  },
  {
   "cell_type": "markdown",
   "metadata": {},
   "source": [
    "There are other mathematical operations that can be used on matrices. See [reference](https://cran.r-project.org/doc/contrib/Short-refcard.pdf) for details"
   ]
  },
  {
   "cell_type": "code",
   "execution_count": null,
   "metadata": {},
   "outputs": [],
   "source": [
    "# Means across rows\n",
    "\n",
    "rowMeans(weights.matrix)"
   ]
  },
  {
   "cell_type": "markdown",
   "metadata": {},
   "source": [
    "## Binding Columns and Rows\n",
    "\n",
    "Let's take a look at how to add columns and rows to a matrix. For these operations, we can use the Built-in R Functions **cbind()** and **rbind()** to bind a new column or row, respectively. "
   ]
  },
  {
   "cell_type": "code",
   "execution_count": null,
   "metadata": {},
   "outputs": [],
   "source": [
    "# Adding another location to wights.matrix\n",
    "\n",
    "Clayton <- c(20.3,18.7,17.6,16.2,15.2)"
   ]
  },
  {
   "cell_type": "code",
   "execution_count": null,
   "metadata": {},
   "outputs": [],
   "source": [
    "# The second argument in rbind and cbind adds the new vector\n",
    "ncsu.matrix <- rbind(weights.matrix, Clayton)"
   ]
  },
  {
   "cell_type": "code",
   "execution_count": null,
   "metadata": {},
   "outputs": [],
   "source": [
    "ncsu.matrix"
   ]
  },
  {
   "cell_type": "markdown",
   "metadata": {},
   "source": [
    "Let's add a column for the means at each of the research stations"
   ]
  },
  {
   "cell_type": "code",
   "execution_count": null,
   "metadata": {},
   "outputs": [],
   "source": [
    "# Create a vector of means across rows\n",
    "Means <- rowMeans(ncsu.matrix)"
   ]
  },
  {
   "cell_type": "code",
   "execution_count": null,
   "metadata": {},
   "outputs": [],
   "source": [
    "ncsu.matrix <- cbind(ncsu.matrix, Means)"
   ]
  },
  {
   "cell_type": "code",
   "execution_count": null,
   "metadata": {},
   "outputs": [],
   "source": [
    "ncsu.matrix"
   ]
  },
  {
   "cell_type": "markdown",
   "metadata": {},
   "source": [
    "# <font color='red'>Matrix Indexing and Slicing</font>\n",
    "\n",
    "Just like with vectors, square brackets **[]** are used to index and select elements from a matrix. Since there are two dimensions to a matrix, the selected elements need to be separated by a comma. \n",
    "\n",
    "**example.matrix[rows,columns]\n",
    "\n",
    "Where the index notation (e.g. 1:5) is put in place of the rows or columns. If either rows or columns is left blank, then all of the rows or columns are selected."
   ]
  },
  {
   "cell_type": "code",
   "execution_count": null,
   "metadata": {},
   "outputs": [],
   "source": [
    "mat <- matrix(1:50, byrow=TRUE, nrow=5)"
   ]
  },
  {
   "cell_type": "code",
   "execution_count": null,
   "metadata": {},
   "outputs": [],
   "source": [
    "mat"
   ]
  },
  {
   "cell_type": "code",
   "execution_count": null,
   "metadata": {},
   "outputs": [],
   "source": [
    "# Grab the first row\n",
    "mat[1,]"
   ]
  },
  {
   "cell_type": "code",
   "execution_count": null,
   "metadata": {},
   "outputs": [],
   "source": [
    "# Grab the first column\n",
    "mat[,1]"
   ]
  },
  {
   "cell_type": "code",
   "execution_count": null,
   "metadata": {},
   "outputs": [],
   "source": [
    "# Grab the first 3 rows\n",
    "mat[1:3,]"
   ]
  },
  {
   "cell_type": "code",
   "execution_count": null,
   "metadata": {},
   "outputs": [],
   "source": [
    "# Grab first 2 rows and first 3 columns\n",
    "mat[1:2,1:3]"
   ]
  },
  {
   "cell_type": "code",
   "execution_count": null,
   "metadata": {},
   "outputs": [],
   "source": [
    "# Grab last two columns\n",
    "mat[,9:10]"
   ]
  },
  {
   "cell_type": "code",
   "execution_count": null,
   "metadata": {},
   "outputs": [],
   "source": [
    "# Grab the center rectangle of the mat matrix\n",
    "mat[2,5:6]"
   ]
  },
  {
   "cell_type": "markdown",
   "metadata": {},
   "source": [
    "# <font color='red'>Factor and Categorical Matrices</font>\n",
    "\n",
    "In this section, we will discuss the Built-in R Function **factor()** and its use in creating categorical matrices. The **factor()** function will become extremely useful when we begin to apply data analysis and machine learning techniques to data. This concept is also known as creating a *dummy variable*\n",
    "\n",
    "Example: Using P (Peanut), M (Maize), S (Soybeans) and C (Cotton) "
   ]
  },
  {
   "cell_type": "code",
   "execution_count": null,
   "metadata": {},
   "outputs": [],
   "source": [
    "crop <- c('p','c','m','p','c','s','m','c','p','s')\n",
    "id <- c(1,2,3,4,5,6,7,8,9,10)"
   ]
  },
  {
   "cell_type": "markdown",
   "metadata": {},
   "source": [
    "We want to convert the crop vector into information that an algorithm or equation can understand (e.g. ANOVA). Meaning, we want to begin to check how many categories (factor levels) are in our character vector.\n",
    "\n",
    "Use the Built-in R Function **factor()** "
   ]
  },
  {
   "cell_type": "code",
   "execution_count": null,
   "metadata": {},
   "outputs": [],
   "source": [
    "factor.crop <- factor(crop)"
   ]
  },
  {
   "cell_type": "code",
   "execution_count": null,
   "metadata": {},
   "outputs": [],
   "source": [
    "# Show levels of crop \n",
    "factor.crop"
   ]
  },
  {
   "cell_type": "markdown",
   "metadata": {},
   "source": [
    "There are four levels of factor.crop - 'p','m','s', and 'c'. In R (and most programming languages/stats software) there are two distinct types of categorical variables > **Ordinal Categorical Variables** and **Nominal Categorical Variables**\n",
    "\n",
    "Nominal categorical variables do not have a specific order to them; for instance, the crops listed in the crop vector.\n",
    "\n",
    "Ordinal categorical variables have a specific order"
   ]
  },
  {
   "cell_type": "code",
   "execution_count": null,
   "metadata": {},
   "outputs": [],
   "source": [
    "ord.cat <- c('cold','med','hot')"
   ]
  },
  {
   "cell_type": "markdown",
   "metadata": {},
   "source": [
    "A specific order can be assigned to these values\n",
    "\n",
    "Temperatures\n",
    "Cold < Med < Hot\n",
    "\n",
    "If you wanted to assign an oder while using the Built-in R Function **factor()**, you can pass the arguement **ordered=TRUE** and pass in the **levels=** in the assigned, sorted order."
   ]
  },
  {
   "cell_type": "code",
   "execution_count": null,
   "metadata": {},
   "outputs": [],
   "source": [
    "temps <- c('cold','med','med','hot','cold','hot','hot','med')\n",
    "fact.temps <- factor(temps, ordered=TRUE, levels=c('cold','med','hot'))\n",
    "fact.temps"
   ]
  },
  {
   "cell_type": "markdown",
   "metadata": {},
   "source": [
    "This information is useful when used with the Built-in R Function **summary()**, which is a convenient function for quickly getting information from a matrix or a vector."
   ]
  },
  {
   "cell_type": "code",
   "execution_count": null,
   "metadata": {},
   "outputs": [],
   "source": [
    "# Summary information for the temps\n",
    "summary(temps)"
   ]
  },
  {
   "cell_type": "code",
   "execution_count": null,
   "metadata": {},
   "outputs": [],
   "source": [
    "# Summary information for fact.temp\n",
    "summary(fact.temps)"
   ]
  },
  {
   "cell_type": "markdown",
   "metadata": {},
   "source": [
    "## End of R Matrices"
   ]
  }
 ],
 "metadata": {
  "kernelspec": {
   "display_name": "R",
   "language": "R",
   "name": "ir"
  },
  "language_info": {
   "codemirror_mode": "r",
   "file_extension": ".r",
   "mimetype": "text/x-r-source",
   "name": "R",
   "pygments_lexer": "r",
   "version": "3.6.1"
  }
 },
 "nbformat": 4,
 "nbformat_minor": 2
}
