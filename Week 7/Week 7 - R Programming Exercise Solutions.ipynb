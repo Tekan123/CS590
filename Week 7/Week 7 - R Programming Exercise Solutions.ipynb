{
 "cells": [
  {
   "cell_type": "markdown",
   "metadata": {},
   "source": [
    "![](logo.png)"
   ]
  },
  {
   "cell_type": "markdown",
   "metadata": {},
   "source": [
    "# <font color='red'>Week 7 - Python Programming Exercise Solutions</font>\n",
    "\n",
    "Let's use **while** loops to create a guessing game.\n",
    "\n",
    "The Challenge:\n",
    "\n",
    "    Write a program that picks a random integer from 1 to 100, and has players guess the number. The rules are:\n",
    "\n",
    "    If a player's guess is less than 1 or greater than 100, say \"OUT OF BOUNDS\" and ask for the input again\n",
    "\n",
    "    On a player's first turn, if their guess is\n",
    "    within 10 of the number, return \"WARM!\"\n",
    "\n",
    "    further than 10 away from the number, return \"COLD!\"\n",
    "\n",
    "    On all subsequent turns, if a guess is\n",
    "    closer to the number than the previous guess return \"WARMER!\"\n",
    "\n",
    "    farther from the number than the previous guess, return \"COLDER!\"\n",
    "\n",
    "    When the player's guess equals the number, tell them they've guessed correctly and how many guesses it took!"
   ]
  },
  {
   "cell_type": "markdown",
   "metadata": {},
   "source": [
    "#### First, pick a random integer from 1 to 100 and assign it to a variable\n",
    "\n",
    "Note: **sample()** allows you to select a random integer between two values - run help(sample) to determine the syntax"
   ]
  },
  {
   "cell_type": "code",
   "execution_count": 1,
   "metadata": {},
   "outputs": [],
   "source": [
    "num = sample(1:100, 1)"
   ]
  },
  {
   "cell_type": "code",
   "execution_count": 2,
   "metadata": {},
   "outputs": [
    {
     "data": {
      "text/html": [
       "59"
      ],
      "text/latex": [
       "59"
      ],
      "text/markdown": [
       "59"
      ],
      "text/plain": [
       "[1] 59"
      ]
     },
     "metadata": {},
     "output_type": "display_data"
    }
   ],
   "source": [
    "num"
   ]
  },
  {
   "cell_type": "markdown",
   "metadata": {},
   "source": [
    "#### Next, print an introduction to the game and explain the rules"
   ]
  },
  {
   "cell_type": "code",
   "execution_count": 3,
   "metadata": {},
   "outputs": [
    {
     "name": "stdout",
     "output_type": "stream",
     "text": [
      "[1] \"WELCOME TO GUESS ME!\"\n",
      "[1] \"I'm thinking of a number between 1 and 100\"\n",
      "[1] \"If your guess is more than 10 away from my number, I'll tell you you're COLD\"\n",
      "[1] \"If your guess is within 10 of my number, I'll tell you you're WARM\"\n",
      "[1] \"If your guess is farther than your most recent guess, I'll say you're getting COLDER\"\n",
      "[1] \"If your guess is closer than your most recent guess, I'll say you're getting WARMER\"\n",
      "[1] \"LET'S PLAY!\"\n"
     ]
    }
   ],
   "source": [
    "print(\"WELCOME TO GUESS ME!\")\n",
    "print(\"I'm thinking of a number between 1 and 100\")\n",
    "print(\"If your guess is more than 10 away from my number, I'll tell you you're COLD\")\n",
    "print(\"If your guess is within 10 of my number, I'll tell you you're WARM\")\n",
    "print(\"If your guess is farther than your most recent guess, I'll say you're getting COLDER\")\n",
    "print(\"If your guess is closer than your most recent guess, I'll say you're getting WARMER\")\n",
    "print(\"LET'S PLAY!\")"
   ]
  },
  {
   "cell_type": "markdown",
   "metadata": {},
   "source": [
    "#### Create a list to store guesses\n",
    "\n",
    "HINT: Zero is a good placeholder value. It's useful because it evaluates to \"FALSE\" based on the conditions of the game"
   ]
  },
  {
   "cell_type": "code",
   "execution_count": 4,
   "metadata": {},
   "outputs": [],
   "source": [
    "guesses <- c(0)"
   ]
  },
  {
   "cell_type": "code",
   "execution_count": 5,
   "metadata": {},
   "outputs": [
    {
     "data": {
      "text/html": [
       "0"
      ],
      "text/latex": [
       "0"
      ],
      "text/markdown": [
       "0"
      ],
      "text/plain": [
       "[1] 0"
      ]
     },
     "metadata": {},
     "output_type": "display_data"
    }
   ],
   "source": [
    "guesses"
   ]
  },
  {
   "cell_type": "markdown",
   "metadata": {},
   "source": [
    "#### Write a **while** loop that asks for a valid guess. Test it a few times to make sure it works.\n",
    "\n",
    "NOTE: Use the built-in R function **readlines()** to get user input. Use **message()** to print text to the console while the loop is running"
   ]
  },
  {
   "cell_type": "code",
   "execution_count": 6,
   "metadata": {},
   "outputs": [
    {
     "name": "stdout",
     "output_type": "stream",
     "text": [
      "Run to get a user prompt asdfasdf\n"
     ]
    }
   ],
   "source": [
    "# Use readline() to get a user input prompt. The system will print the user input after pressing enter\n",
    "#This can be stored as a variable and used in the while loop\n",
    "readline(prompt=\"Run to get a user prompt \")"
   ]
  },
  {
   "cell_type": "code",
   "execution_count": 1,
   "metadata": {},
   "outputs": [
    {
     "name": "stdout",
     "output_type": "stream",
     "text": [
      "Guess a number between 1 and 100.\n",
      " What is your guess? 101\n"
     ]
    },
    {
     "name": "stderr",
     "output_type": "stream",
     "text": [
      "OUT OF BOUNDS. Please Try Again:\n"
     ]
    },
    {
     "name": "stdout",
     "output_type": "stream",
     "text": [
      "Guess a number between 1 and 100.\n",
      " What is your guess? 12\n"
     ]
    }
   ],
   "source": [
    "while(TRUE){\n",
    "    # Take the user input \"guess\" and store it as an integer in the variable guess\n",
    "    guess = as.integer(readline(prompt=\"Guess a number between 1 and 100.\\n What is your guess? \"))\n",
    "    # Evaluate guess as between 1 and 100 or output \"Out of Bounds\" statement\n",
    "    if (guess < 1 | guess > 100){\n",
    "        message(\"OUT OF BOUNDS. Please Try Again:\")\n",
    "        next\n",
    "    }\n",
    "\n",
    "    break\n",
    "}"
   ]
  },
  {
   "cell_type": "markdown",
   "metadata": {},
   "source": [
    "#### Write a **while** loop that compares the player's guess to our number. If the player guesses correctly, break from the loop. Otherwise, tell the player if they're warmer or colder, and continue asking for guesses.\n",
    "\n",
    "Some hints:\n",
    "* It may help to sketch out all possible combinations on paper first\n",
    "* Use a difference of 10 to suggest warm or cold\n",
    "* you can use the **abs()** function to find the positive difference between two numbers\n",
    "* Use **append()** to append all new guesses to the list, then the previous guess is given as guesses[length(guesses)-1]\n",
    "* For the initial guess, lenght(guesses)-1 == 0, which resolves to FALSE. Use this to determine warm and cold vs warmer and colder"
   ]
  },
  {
   "cell_type": "code",
   "execution_count": 10,
   "metadata": {},
   "outputs": [
    {
     "name": "stdout",
     "output_type": "stream",
     "text": [
      "Guess a number between 1 and 100.\n",
      " What is your guess? 56\n"
     ]
    },
    {
     "name": "stderr",
     "output_type": "stream",
     "text": [
      "Warm!\n"
     ]
    },
    {
     "name": "stdout",
     "output_type": "stream",
     "text": [
      "Guess a number between 1 and 100.\n",
      " What is your guess? 60\n"
     ]
    },
    {
     "name": "stderr",
     "output_type": "stream",
     "text": [
      "Warmer!\n"
     ]
    },
    {
     "name": "stdout",
     "output_type": "stream",
     "text": [
      "Guess a number between 1 and 100.\n",
      " What is your guess? 57\n"
     ]
    },
    {
     "name": "stderr",
     "output_type": "stream",
     "text": [
      "Colder!\n"
     ]
    },
    {
     "name": "stdout",
     "output_type": "stream",
     "text": [
      "Guess a number between 1 and 100.\n",
      " What is your guess? 61\n"
     ]
    },
    {
     "name": "stderr",
     "output_type": "stream",
     "text": [
      "Colder!\n"
     ]
    },
    {
     "name": "stdout",
     "output_type": "stream",
     "text": [
      "Guess a number between 1 and 100.\n",
      " What is your guess? 58\n"
     ]
    },
    {
     "name": "stderr",
     "output_type": "stream",
     "text": [
      "Warmer!\n"
     ]
    },
    {
     "name": "stdout",
     "output_type": "stream",
     "text": [
      "Guess a number between 1 and 100.\n",
      " What is your guess? 59\n"
     ]
    },
    {
     "name": "stderr",
     "output_type": "stream",
     "text": [
      "Congratulations. You guessed the number in 6 guesses!\n"
     ]
    }
   ],
   "source": [
    "while(TRUE){\n",
    "    # Take the user input \"guess\" and store it as an integer in the variable guess\n",
    "    guess = as.integer(readline(prompt=\"Guess a number between 1 and 100.\\n What is your guess? \"))\n",
    "    # Evaluate guess as between 1 and 100 or output \"Out of Bounds\" statement\n",
    "    if (guess < 1 | guess > 100){\n",
    "        message(\"OUT OF BOUNDS. Please Try Again:\")\n",
    "        next\n",
    "    }\n",
    "    # Here we compare the player's guess to the stored num from random.randint\n",
    "    if (guess == num){\n",
    "        message(sprintf(\"Congratulations. You guessed the number in %s guesses!\",length(guesses)))\n",
    "        break\n",
    "    #If the guess is correct, end the loop\n",
    "    }\n",
    "    # If guess is incorrect, add guess to the list using append\n",
    "    guesses <- append(guesses, guess)\n",
    "    # When testing the first guess, guesses[length(guesses)-1]==0, which evaluates to False\n",
    "    # and brings us down to the second section\n",
    "    if (guesses[length(guesses)-1]){\n",
    "        if (abs(num-guess) < abs(num-guesses[length(guesses)-1])){\n",
    "            message(\"Warmer!\")\n",
    "        }else{\n",
    "            message(\"Colder!\")\n",
    "        }\n",
    "    }\n",
    "    #The first guess will tell you if you are warm or cold... \n",
    "    #all subsequent guesses will tell you warmer or colder\n",
    "    else{\n",
    "        if (abs(num-guess) <= 10){\n",
    "            message(\"Warm!\")\n",
    "        }else{\n",
    "            message(\"Cold!\")\n",
    "        }\n",
    "    }\n",
    "}"
   ]
  },
  {
   "cell_type": "markdown",
   "metadata": {},
   "source": [
    "#### Lastly, compile everything together in a single cell to run, including the random integer and the list for compiling the guesses"
   ]
  },
  {
   "cell_type": "code",
   "execution_count": null,
   "metadata": {},
   "outputs": [],
   "source": [
    "print(\"WELCOME TO GUESS ME!\")\n",
    "print(\"I'm thinking of a number between 1 and 100...\")\n",
    "print(\"If your guess is more than 10 away from my number, I'll tell you you're COLD\")\n",
    "print(\"If your guess is within 10 of my number, I'll tell you you're WARM\")\n",
    "print(\"If your guess is farther than your most recent guess, I'll say you're getting COLDER\")\n",
    "print(\"If your guess is closer than your most recent guess, I'll say you're getting WARMER\")\n",
    "print(\"LET'S PLAY!\")\n",
    "\n",
    "#Create a random integer from 1:100\n",
    "num = sample(1:100, 1)\n",
    "#Create a vector starting with 0 to evaluate to FALSE.\n",
    "guesses <- c(0)\n",
    "\n",
    "while(TRUE){\n",
    "    # Take the user input \"guess\" and store it as an integer in the variable guess\n",
    "    guess = as.integer(readline(prompt=\"Guess a number between 1 and 100.\\n What is your guess? \"))\n",
    "    # Evaluate guess as between 1 and 100 or output \"Out of Bounds\" statement\n",
    "    if (guess < 1 | guess > 100){\n",
    "        message(\"OUT OF BOUNDS. Please Try Again:\")\n",
    "        next\n",
    "    }\n",
    "    # Here we compare the player's guess to the stored num from random.randint\n",
    "    if (guess == num){\n",
    "        message(sprintf(\"Congratulations. You guessed the number in %s guesses!\",length(guesses)))\n",
    "        break\n",
    "    #If the guess is correct, end the loop\n",
    "    }\n",
    "    # If guess is incorrect, add guess to the list using append\n",
    "    guesses <- append(guesses, guess)\n",
    "    \n",
    "    # When testing the first guess, guesses[length(guesses)-1]==0, which evaluates to False\n",
    "    # and brings us down to the second section\n",
    "    if (guesses[length(guesses)-1]){\n",
    "        if (abs(num-guess) < abs(num-guesses[length(guesses)-1])){\n",
    "            message(\"Warmer!\")\n",
    "        }else{\n",
    "            message(\"Colder!\")\n",
    "        }\n",
    "    }\n",
    "    #The first guess will tell you if you are warm or cold... \n",
    "    #all subsequent guesses will tell you warmer or colder\n",
    "    else{\n",
    "        if (abs(num-guess) <= 10){\n",
    "            message(\"Warm!\")\n",
    "        }else{\n",
    "            message(\"Cold!\")\n",
    "        }\n",
    "    }\n",
    "}"
   ]
  }
 ],
 "metadata": {
  "kernelspec": {
   "display_name": "R",
   "language": "R",
   "name": "ir"
  },
  "language_info": {
   "codemirror_mode": "r",
   "file_extension": ".r",
   "mimetype": "text/x-r-source",
   "name": "R",
   "pygments_lexer": "r",
   "version": "3.6.1"
  }
 },
 "nbformat": 4,
 "nbformat_minor": 2
}
