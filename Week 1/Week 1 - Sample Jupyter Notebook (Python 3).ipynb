{
 "cells": [
  {
   "cell_type": "markdown",
   "metadata": {},
   "source": [
    "![](Logo.png)"
   ]
  },
  {
   "cell_type": "markdown",
   "metadata": {},
   "source": [
    "# Sample Jupyter Notebook\n",
    "\n",
    "**Run the code cell to print \"Welcome to CS590!\"**"
   ]
  },
  {
   "cell_type": "code",
   "execution_count": null,
   "metadata": {},
   "outputs": [],
   "source": [
    "print(\"Welcome to CS590!\")"
   ]
  },
  {
   "cell_type": "markdown",
   "metadata": {},
   "source": [
    "**Create markdown cells using these formats for notetaking. Run the markdown cell to see the output.**"
   ]
  },
  {
   "cell_type": "markdown",
   "metadata": {},
   "source": [
    "Use # To Create Outlines View\n",
    "> # Markdown Cell Title\n",
    ">> ## Markdown Cell Major Heading\n",
    ">>> ### Markdown Cell Subheading\n",
    ">>>> #### Markcown Cell Subgroup Heading\n",
    "\n",
    "Bold and Itilicize Font\n",
    "\n",
    "> **Bold**\n",
    "> *Italics*\n",
    "\n",
    "Include Equations\n",
    "\n",
    "> $e^{i\\pi} + 1 = 0$\n",
    "\n",
    "Change Font Colors\n",
    "\n",
    "> <font color='green'>GREEN</font>\n",
    "> <font color='red'>RED</font>\n",
    "> <font color='blue'>BLACK?</font>\n",
    "\n",
    "Change Font Sizes\n",
    "\n",
    "> <font size='1'>Size 1</font>\n",
    "> <font size='2'>Size 2</font>\n",
    "> <font size='5'>Size 5</font>\n",
    "> <font size='10'>Size 10</font>"
   ]
  },
  {
   "cell_type": "markdown",
   "metadata": {},
   "source": [
    "**Download Notebook for Python.exe Command Line Use**\n",
    "\n",
    "File > Download As > Python (.py)"
   ]
  },
  {
   "cell_type": "markdown",
   "metadata": {},
   "source": [
    "**Download Notebook for GitHub Exercise Use**\n",
    "\n",
    "File > Download As > Notebook (.ipynb)"
   ]
  }
 ],
 "metadata": {
  "kernelspec": {
   "display_name": "Python 3",
   "language": "python",
   "name": "python3"
  },
  "language_info": {
   "codemirror_mode": {
    "name": "ipython",
    "version": 3
   },
   "file_extension": ".py",
   "mimetype": "text/x-python",
   "name": "python",
   "nbconvert_exporter": "python",
   "pygments_lexer": "ipython3",
   "version": "3.7.3"
  }
 },
 "nbformat": 4,
 "nbformat_minor": 2
}
